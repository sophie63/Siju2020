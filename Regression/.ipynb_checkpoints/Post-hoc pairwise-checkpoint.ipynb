{
 "cells": [
  {
   "cell_type": "code",
   "execution_count": 1,
   "metadata": {},
   "outputs": [],
   "source": [
    "import numpy as np\n",
    "import pandas as pd\n",
    "import matplotlib.pyplot as plt\n",
    "#plt.style.use(\"v_paper\")\n",
    "import deepdish as dd\n",
    "from scipy.signal import savgol_filter\n",
    "import statsmodels as sm\n",
    "%matplotlib inline"
   ]
  },
  {
   "cell_type": "code",
   "execution_count": 2,
   "metadata": {},
   "outputs": [],
   "source": [
    "esum = dd.io.load(\"experiments_summary.h5\")\n",
    "\n",
    "lobe_data = pd.DataFrame(esum[\"lobe_summary\"])\n",
    "\n",
    "lobe_activities = np.row_stack(esum[\"df_fs\"])\n",
    "\n",
    "lobe_data[\"df_f\"] = np.mean(lobe_activities[:, 31:35], 1)"
   ]
  },
  {
   "cell_type": "code",
   "execution_count": 3,
   "metadata": {},
   "outputs": [],
   "source": [
    "Lobes=lobe_data.lobe.unique()"
   ]
  },
  {
   "cell_type": "code",
   "execution_count": 4,
   "metadata": {},
   "outputs": [
    {
     "name": "stderr",
     "output_type": "stream",
     "text": [
      "C:\\Users\\aimon\\Anaconda3\\lib\\site-packages\\ipykernel_launcher.py:2: SettingWithCopyWarning: \n",
      "A value is trying to be set on a copy of a slice from a DataFrame\n",
      "\n",
      "See the caveats in the documentation: http://pandas.pydata.org/pandas-docs/stable/indexing.html#indexing-view-versus-copy\n",
      "  \n"
     ]
    }
   ],
   "source": [
    "lobe_data[\"adaptnorm\"] = -lobe_data.adaptation/lobe_data.df_mean\n",
    "lobe_data.adaptnorm[lobe_data.df_mean<0.3]=np.nan\n",
    "lobe_data[\"adaptnormperc\"]=lobe_data.adaptnorm*100"
   ]
  },
  {
   "cell_type": "code",
   "execution_count": 5,
   "metadata": {},
   "outputs": [
    {
     "name": "stdout",
     "output_type": "stream",
     "text": [
      "a1\n",
      "1.6465011433603491\n",
      "(0.3313089402049956, 10.01264735710825)\n",
      "a2\n",
      "0.5515283087876038\n",
      "(0.30896146631403565, 2.4937800683083218)\n",
      "a3\n",
      "0.08583146752258823\n",
      "(-4.362322478830986, -1.0032899672585096)\n",
      "ap1\n",
      "0.0009559160436664528\n",
      "(-8.488956613571736, -3.2069014503823454)\n",
      "ap2\n",
      "2.8394218604415043e-05\n",
      "(-9.766008318159813, -4.393743187238755)\n",
      "ap3\n",
      "1.5961108678139286e-10\n",
      "(-8.543432747102234, -4.943714019050346)\n",
      "b1\n",
      "7.358835060563101e-26\n",
      "(8.238261075954973, 11.240749817214748)\n",
      "b2\n",
      "2.139123342297311\n",
      "(-1.9780514528190918, -0.010884638675308977)\n",
      "bp1\n",
      "2.6514916866036576e-06\n",
      "(2.4375481667592886, 5.1085596507155095)\n",
      "bp2\n",
      "3.213039825423794e-17\n",
      "(2.8217353718006546, 4.289999424117066)\n",
      "g1\n",
      "3.578956101439837e-22\n",
      "(5.997434323157034, 8.473463654467583)\n",
      "g2\n",
      "0.000407452817387573\n",
      "(-4.932230481419241, -1.9514730175308954)\n",
      "g3\n",
      "2.3753680477720837e-05\n",
      "(-3.1643420461355585, -1.4107783283841928)\n",
      "g4\n",
      "0.0014874786922270688\n",
      "(-2.2388193335118087, -0.8175355085937579)\n",
      "g5\n",
      "1.303436455920105\n",
      "(-2.6461377057433824, -0.1476109067908209)\n"
     ]
    }
   ],
   "source": [
    "padapt=np.zeros(15)\n",
    "from scipy import stats\n",
    "import statsmodels.stats.api as sms\n",
    "i=0\n",
    "for lobe in Lobes:\n",
    "    sub_lobe_data=lobe_data[lobe_data['lobe']==lobe][\"adaptnormperc\"]\n",
    "    data_to_test=np.array([x for x in sub_lobe_data if str(x) != 'nan'])\n",
    "    test=stats.ttest_1samp(data_to_test, 0)\n",
    "    print(lobe)\n",
    "    print(test[1]*45)\n",
    "    print(sms.DescrStatsW(data_to_test).tconfint_mean())\n",
    "    padapt[i]=test[1]\n",
    "    i=i+1"
   ]
  },
  {
   "cell_type": "code",
   "execution_count": 8,
   "metadata": {},
   "outputs": [
    {
     "name": "stdout",
     "output_type": "stream",
     "text": [
      "a1\n",
      "25.76101753896569\n",
      "a2\n",
      "8.385089561225883e-05\n",
      "a3\n",
      "16.141237607682847\n",
      "ap1\n",
      "2.818458352962538\n",
      "ap2\n",
      "0.004589446889050762\n",
      "ap3\n",
      "0.7975894449826084\n",
      "b1\n",
      "14.942648699112828\n",
      "b2\n",
      "38.407948029119794\n",
      "bp1\n",
      "32.36305038207991\n",
      "bp2\n",
      "39.28675156838628\n",
      "g1\n",
      "27.489324035474926\n",
      "g2\n",
      "1.6754571979549349\n",
      "g3\n",
      "26.267693370299174\n",
      "g4\n",
      "44.2828740719893\n",
      "g5\n",
      "10.130822576665198\n"
     ]
    }
   ],
   "source": [
    "pdorsaltoventral=np.zeros(15)\n",
    "i=0\n",
    "for lobe in Lobes:\n",
    "    sub_lobe_data=lobe_data[lobe_data['lobe']==lobe]\n",
    "    sub_lobe_data_fed=sub_lobe_data[sub_lobe_data['dorsal_to_ventral']==True]\n",
    "    sub_lobe_data_starved=sub_lobe_data[sub_lobe_data['dorsal_to_ventral']==False]\n",
    "    test=sm.stats.weightstats.ttest_ind(sub_lobe_data_fed[\"df_f\"], sub_lobe_data_starved[\"df_f\"], alternative='two-sided', usevar='pooled', weights=(None, None), value=0)\n",
    "    print(lobe)\n",
    "    print(test[1]*45)\n",
    "    pdorsaltoventral[i]=test[1]\n",
    "    i=i+1"
   ]
  },
  {
   "cell_type": "code",
   "execution_count": 9,
   "metadata": {},
   "outputs": [
    {
     "name": "stdout",
     "output_type": "stream",
     "text": [
      "a1\n",
      "0.014215942105114126\n",
      "a2\n",
      "19.328400559731975\n",
      "a3\n",
      "36.98344390890222\n",
      "ap1\n",
      "30.05202633211263\n",
      "ap2\n",
      "32.067718007399705\n",
      "ap3\n",
      "22.59258618246846\n",
      "b1\n",
      "0.00023438824020923714\n",
      "b2\n",
      "1.5854974362037482\n",
      "bp1\n",
      "0.10666441336206653\n",
      "bp2\n",
      "0.0005178173542023691\n",
      "g1\n",
      "0.4686479784933548\n",
      "g2\n",
      "40.03153494959953\n",
      "g3\n",
      "37.442620795282814\n",
      "g4\n",
      "0.6970213625395426\n",
      "g5\n",
      "16.587980538492758\n"
     ]
    }
   ],
   "source": [
    "pstarvation=np.zeros(15)\n",
    "i=0\n",
    "for lobe in Lobes:\n",
    "    sub_lobe_data=lobe_data[lobe_data['lobe']==lobe]\n",
    "    sub_lobe_data_fed=sub_lobe_data[sub_lobe_data['hours_starved']==0]\n",
    "    sub_lobe_data_starved=sub_lobe_data[sub_lobe_data['hours_starved']!=0]\n",
    "    test=sm.stats.weightstats.ttest_ind(sub_lobe_data_fed[\"df_f\"], sub_lobe_data_starved[\"df_f\"], alternative='two-sided', usevar='pooled', weights=(None, None), value=0)\n",
    "    print(lobe)\n",
    "    print(test[1]*45)\n",
    "    pstarvation[i]=test[1]\n",
    "    i=i+1"
   ]
  },
  {
   "cell_type": "code",
   "execution_count": 11,
   "metadata": {},
   "outputs": [
    {
     "name": "stdout",
     "output_type": "stream",
     "text": [
      "a1\n",
      "0.17648685471853642\n",
      "a2\n",
      "0.09459561902289729\n",
      "a3\n",
      "0.0011849497435995463\n",
      "ap1\n",
      "0.0006161573425015561\n",
      "ap2\n",
      "0.09640884593410183\n",
      "ap3\n",
      "0.6715971051715164\n",
      "b1\n",
      "0.009578162715871329\n",
      "b2\n",
      "1.8071248253278195e-05\n",
      "bp1\n",
      "0.45511101009453747\n",
      "bp2\n",
      "1.2187218929800208e-08\n",
      "g1\n",
      "0.805223912582054\n",
      "g2\n",
      "0.00025184103628486177\n",
      "g3\n",
      "0.6514124926858975\n",
      "g4\n",
      "1.1227907684272386e-09\n",
      "g5\n",
      "0.004503493464996277\n"
     ]
    }
   ],
   "source": [
    "pvalence=np.zeros(15)\n",
    "i=0\n",
    "for lobe in Lobes:\n",
    "    sub_lobe_data=lobe_data[lobe_data['lobe']==lobe]\n",
    "    sub_lobe_data_pos=sub_lobe_data[sub_lobe_data['valence']==1]\n",
    "    sub_lobe_data_neg=sub_lobe_data[sub_lobe_data['valence']==-1]\n",
    "    test=sm.stats.weightstats.ttest_ind(sub_lobe_data_pos[\"df_f\"], sub_lobe_data_neg[\"df_f\"], alternative='two-sided', usevar='pooled', weights=(None, None), value=0)\n",
    "    print(lobe)\n",
    "    print(test[1])\n",
    "    pvalence[i]=test[1]        \n",
    "    i=i+1    "
   ]
  },
  {
   "cell_type": "code",
   "execution_count": 13,
   "metadata": {},
   "outputs": [
    {
     "data": {
      "text/plain": [
       "(array([False, False, False,  True,  True,  True,  True, False,  True,\n",
       "         True,  True,  True,  True,  True, False, False,  True, False,\n",
       "        False,  True, False, False, False, False, False, False, False,\n",
       "        False, False, False,  True, False, False, False, False, False,\n",
       "         True, False, False,  True, False, False, False, False, False,\n",
       "        False, False,  True,  True, False, False, False,  True, False,\n",
       "         True, False,  True, False,  True, False]),\n",
       " array([6.60736186e-01, 3.42483208e-01, 7.17538227e-02, 9.76691727e-04,\n",
       "        3.28105691e-05, 2.02175610e-10, 0.00000000e+00, 7.31520909e-01,\n",
       "        3.18178506e-06, 0.00000000e+00, 0.00000000e+00, 4.43574446e-04,\n",
       "        2.79761731e-05, 1.48639749e-03, 5.97952032e-01, 9.99997086e-01,\n",
       "        9.50265883e-05, 9.99861547e-01, 8.13937738e-01, 4.47763340e-03,\n",
       "        4.35751923e-01, 9.99791310e-01, 9.99997086e-01, 9.99997086e-01,\n",
       "        9.99997086e-01, 9.99997086e-01, 6.60736186e-01, 9.99997086e-01,\n",
       "        9.99997086e-01, 9.96343697e-01, 1.31826465e-02, 9.99959043e-01,\n",
       "        9.99997086e-01, 9.99997086e-01, 9.99997086e-01, 9.99985715e-01,\n",
       "        2.60398147e-04, 6.59066665e-01, 8.62324762e-02, 5.52189176e-04,\n",
       "        3.06785158e-01, 9.99997086e-01, 9.99997086e-01, 4.02588453e-01,\n",
       "        9.99861547e-01, 9.88507293e-01, 9.16619443e-01, 4.63190468e-02,\n",
       "        2.49536172e-02, 9.16619443e-01, 9.99997086e-01, 2.92824082e-01,\n",
       "        8.48995741e-04, 9.99967097e-01, 6.70296819e-07, 9.99997086e-01,\n",
       "        1.07720894e-02, 9.99997086e-01, 6.28762801e-08, 1.53805123e-01]),\n",
       " 0.0008545229269492083,\n",
       " 0.0008333333333333334)"
      ]
     },
     "execution_count": 13,
     "metadata": {},
     "output_type": "execute_result"
    }
   ],
   "source": [
    "sm.stats.multitest.multipletests(np.concatenate((padapt,pdorsaltoventral,pstarvation,pvalence)), alpha=0.05, method='hs', is_sorted=False, returnsorted=False)"
   ]
  },
  {
   "cell_type": "code",
   "execution_count": null,
   "metadata": {},
   "outputs": [],
   "source": [
    "#VALENCE\n",
    "9.88507293e-01, 9.16619443e-01, 4.63190468e-02,\n",
    "        2.49536172e-02, 9.16619443e-01, 9.99997086e-01, \n",
    "    2.92824082e-01, 8.48995741e-04, \n",
    "    9.99967097e-01, 6.70296819e-07, \n",
    "    9.99997086e-01,  1.07720894e-02, 9.99997086e-01, 6.28762801e-08, 1.53805123e-01\n",
    "#ADAPT\n",
    "6.60736186e-01, 3.42483208e-01, 7.17538227e-02\n",
    "9.76691727e-04,    3.28105691e-05, 2.02175610e-10\n",
    "0.00000000e+00, 7.31520909e-01\n",
    "3.18178506e-06, 0.00000000e+00\n",
    "0.00000000e+00, 4.43574446e-04, 2.79761731e-05, 1.48639749e-03, 5.97952032e-01"
   ]
  }
 ],
 "metadata": {
  "kernelspec": {
   "display_name": "Python 3",
   "language": "python",
   "name": "python3"
  },
  "language_info": {
   "codemirror_mode": {
    "name": "ipython",
    "version": 3
   },
   "file_extension": ".py",
   "mimetype": "text/x-python",
   "name": "python",
   "nbconvert_exporter": "python",
   "pygments_lexer": "ipython3",
   "version": "3.7.1"
  }
 },
 "nbformat": 4,
 "nbformat_minor": 2
}
