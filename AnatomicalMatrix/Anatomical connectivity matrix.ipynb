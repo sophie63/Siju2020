{
 "cells": [
  {
   "cell_type": "code",
   "execution_count": 1,
   "metadata": {},
   "outputs": [],
   "source": [
    "import numpy as np\n",
    "import pandas as pd\n",
    "import matplotlib.pyplot as plt\n",
    "#plt.style.use(\"v_paper\")\n",
    "import deepdish as dd\n",
    "%matplotlib inline\n",
    "import seaborn as sns"
   ]
  },
  {
   "cell_type": "code",
   "execution_count": 2,
   "metadata": {},
   "outputs": [],
   "source": [
    "plt.rcParams[\"font.family\"] = \"Arial\"\n",
    "plt.rcParams[\"font.size\"] = 20"
   ]
  },
  {
   "cell_type": "code",
   "execution_count": 3,
   "metadata": {},
   "outputs": [],
   "source": [
    "lobes_dict={'a1': 0,\n",
    " 'a2': 1,\n",
    " 'a3': 2,\n",
    " 'ap1': 3,\n",
    " 'ap2': 4,\n",
    " 'ap3': 5,\n",
    " 'b1': 6,\n",
    " 'b2': 7,\n",
    " 'bp1': 8,\n",
    " 'bp2': 9,\n",
    " 'g1': 10,\n",
    " 'g2': 11,\n",
    " 'g3': 12,\n",
    " 'g4': 13,\n",
    " 'g5': 14}"
   ]
  },
  {
   "cell_type": "code",
   "execution_count": 4,
   "metadata": {},
   "outputs": [],
   "source": [
    "lobes=list(lobes_dict.keys())"
   ]
  },
  {
   "cell_type": "code",
   "execution_count": 5,
   "metadata": {},
   "outputs": [
    {
     "data": {
      "text/plain": [
       "['a1',\n",
       " 'a2',\n",
       " 'a3',\n",
       " 'ap1',\n",
       " 'ap2',\n",
       " 'ap3',\n",
       " 'b1',\n",
       " 'b2',\n",
       " 'bp1',\n",
       " 'bp2',\n",
       " 'g1',\n",
       " 'g2',\n",
       " 'g3',\n",
       " 'g4',\n",
       " 'g5']"
      ]
     },
     "execution_count": 5,
     "metadata": {},
     "output_type": "execute_result"
    }
   ],
   "source": [
    "lobes"
   ]
  },
  {
   "cell_type": "markdown",
   "metadata": {},
   "source": [
    "# From Aso 2014  eLife 2014;3:e04577 DOI: 10.7554/eLife.04577"
   ]
  },
  {
   "cell_type": "code",
   "execution_count": 6,
   "metadata": {},
   "outputs": [],
   "source": [
    "Lobes_connectivity_matrix=np.zeros((15,15))"
   ]
  },
  {
   "cell_type": "code",
   "execution_count": 7,
   "metadata": {},
   "outputs": [],
   "source": [
    "# Fig 12 : Nearly all DANs have their termini confined to a single compartment; however, we identified 3 DAN types that have axon terminals in two compartments.\n",
    "# Dans with axons in 2 compartments:direct connectivity (value=2)\n",
    "# beta 2/beta' 2 , gamma2/alpha'1 , alpha'2 / alpha 2\n",
    "# One DAN cell type (PAM-γ4<γ1γ2) has dendrites within (as well as outside) the lobes in the subdivisions indicated by an ‘O’ "
   ]
  },
  {
   "cell_type": "code",
   "execution_count": 8,
   "metadata": {},
   "outputs": [],
   "source": [
    "weight=2\n",
    "Lobes_connectivity_matrix[7,9]=weight\n",
    "Lobes_connectivity_matrix[9,7]=weight\n",
    "Lobes_connectivity_matrix[11,3]=weight\n",
    "Lobes_connectivity_matrix[3,11]=weight\n",
    "Lobes_connectivity_matrix[1,4]=weight\n",
    "Lobes_connectivity_matrix[4,1]=weight\n",
    "Lobes_connectivity_matrix[10,13]=weight\n",
    "Lobes_connectivity_matrix[11,13]=weight\n",
    "# would remove next two lines if directed\n",
    "Lobes_connectivity_matrix[13,10]=weight\n",
    "Lobes_connectivity_matrix[13,11]=weight"
   ]
  },
  {
   "cell_type": "code",
   "execution_count": 9,
   "metadata": {},
   "outputs": [],
   "source": [
    "LobesGreek=['α1', 'α2', 'α3', \"α'1\", \"α'2\", \"α'3\", 'β1', 'β2', \"β'1\", \"β'2\",\n",
    "       'γ1', 'γ2', 'γ3', 'γ4', 'γ5']\n",
    "import matplotlib as mpl\n",
    "mpl.rcParams.update({'font.size': 20})"
   ]
  },
  {
   "cell_type": "code",
   "execution_count": 10,
   "metadata": {},
   "outputs": [],
   "source": [
    "# Dendrites colocalisation Fig 20"
   ]
  },
  {
   "cell_type": "code",
   "execution_count": 13,
   "metadata": {},
   "outputs": [],
   "source": [
    "rawa = []\n",
    "with open('AsoDendriteColocalisation.txt','r') as f:\n",
    "    for line in f:\n",
    "        rawa.append(line.split())\n",
    "dataDendrites = pd.DataFrame(rawa)"
   ]
  },
  {
   "cell_type": "code",
   "execution_count": 14,
   "metadata": {},
   "outputs": [],
   "source": [
    "ArrayAsoFig20B=np.array(dataDendrites.values,dtype=float)\n",
    "DANs_2_DANs=np.zeros((16,16))\n",
    "for i in range(16):\n",
    "    for j in range(16):\n",
    "       DANs_2_DANs[i,j]=0.5*np.abs(ArrayAsoFig20B[5+i*10,(5+j*10)]-250)/250"
   ]
  },
  {
   "cell_type": "code",
   "execution_count": 15,
   "metadata": {
    "scrolled": true
   },
   "outputs": [
    {
     "data": {
      "text/plain": [
       "<matplotlib.axes._subplots.AxesSubplot at 0x22fba7ad748>"
      ]
     },
     "execution_count": 15,
     "metadata": {},
     "output_type": "execute_result"
    },
    {
     "data": {
      "image/png": "[encoded data removed]",
      "text/plain": [
       "<Figure size 720x504 with 2 Axes>"
      ]
     },
     "metadata": {
      "needs_background": "light"
     },
     "output_type": "display_data"
    }
   ],
   "source": [
    "plt.figure(figsize=(10, 7))\n",
    "\n",
    "# plot the heatmap\n",
    "sns.heatmap(DANs_2_DANs)"
   ]
  },
  {
   "cell_type": "code",
   "execution_count": 16,
   "metadata": {},
   "outputs": [],
   "source": [
    "DANsDendites=[['bp2'],['bp2'],['bp1'],['b1'],['b2'],['a2','ap2'],['a1'],['ap3'],['g1'],['a3'],['g5'],['bp2'],['g4'],['g3'],['bp2','b2'],['g2','ap1']]"
   ]
  },
  {
   "cell_type": "code",
   "execution_count": 17,
   "metadata": {},
   "outputs": [],
   "source": [
    "i=0\n",
    "j=0\n",
    "for dans1 in DANsDendites:\n",
    "    j=0\n",
    "    for dans in DANsDendites:\n",
    "        for dan1 in dans1:\n",
    "            for dan in dans:\n",
    "                k=lobes_dict[dan1]\n",
    "                l=lobes_dict[dan]\n",
    "                Lobes_connectivity_matrix[k,l]=Lobes_connectivity_matrix[k,l]+DANs_2_DANs[i,j]\n",
    "                Lobes_connectivity_matrix[l,k]=Lobes_connectivity_matrix[l,k]+DANs_2_DANs[i,j]\n",
    "        j=j+1\n",
    "    i=i+1"
   ]
  },
  {
   "cell_type": "code",
   "execution_count": 18,
   "metadata": {},
   "outputs": [],
   "source": [
    "# MB to DANs dendrites fig 20"
   ]
  },
  {
   "cell_type": "code",
   "execution_count": 19,
   "metadata": {},
   "outputs": [],
   "source": [
    "raw = []\n",
    "with open('AsoFig20MBONtoDANs.txt','r') as f:\n",
    "    for line in f:\n",
    "        raw.append(line.split())\n",
    "data = pd.DataFrame(raw)"
   ]
  },
  {
   "cell_type": "code",
   "execution_count": 20,
   "metadata": {},
   "outputs": [],
   "source": [
    "ArrayAsoFig20=np.array(data.values,dtype=float)"
   ]
  },
  {
   "cell_type": "code",
   "execution_count": 21,
   "metadata": {},
   "outputs": [],
   "source": [
    "MBON_2_DANS=np.zeros((16,16))"
   ]
  },
  {
   "cell_type": "code",
   "execution_count": 22,
   "metadata": {},
   "outputs": [],
   "source": [
    "for i in range(16):\n",
    "    for j in range(16):\n",
    "       MBON_2_DANS[i,j]=0.25*np.abs(ArrayAsoFig20[5+i*10,(5+j*10)]-250)/250"
   ]
  },
  {
   "cell_type": "code",
   "execution_count": 23,
   "metadata": {},
   "outputs": [
    {
     "data": {
      "text/plain": [
       "0.0"
      ]
     },
     "execution_count": 23,
     "metadata": {},
     "output_type": "execute_result"
    }
   ],
   "source": [
    "np.min(np.min(MBON_2_DANS))"
   ]
  },
  {
   "cell_type": "code",
   "execution_count": 24,
   "metadata": {
    "scrolled": true
   },
   "outputs": [
    {
     "data": {
      "text/plain": [
       "<matplotlib.axes._subplots.AxesSubplot at 0x22fbce61400>"
      ]
     },
     "execution_count": 24,
     "metadata": {},
     "output_type": "execute_result"
    },
    {
     "data": {
      "image/png": "[encoded data removed]",
      "text/plain": [
       "<Figure size 720x504 with 2 Axes>"
      ]
     },
     "metadata": {
      "needs_background": "light"
     },
     "output_type": "display_data"
    }
   ],
   "source": [
    "import seaborn as sns\n",
    "plt.figure(figsize=(10, 7))\n",
    "\n",
    "# plot the heatmap\n",
    "sns.heatmap(MBON_2_DANS)"
   ]
  },
  {
   "cell_type": "code",
   "execution_count": 25,
   "metadata": {},
   "outputs": [],
   "source": [
    "MBONS=[['g5','bp2'],['b2','bp2'],['bp2'],['g4'],['b1'],['a1'],['g3','bp1'],['bp1'],['g1'],['g2','ap1'],['ap1'],['ap3'],['ap2'],['a2'],['a2'],['a3']]"
   ]
  },
  {
   "cell_type": "code",
   "execution_count": 26,
   "metadata": {},
   "outputs": [],
   "source": [
    "DANs=[['g5'],['bp2'],['b2','bp2'],['b2'],['bp2'],['bp2'],['g4'],['b1'],['a1'],['g3'],['bp1'],['g1'],['g2','ap1'],['ap3'],['ap2','a2'],['a3']]"
   ]
  },
  {
   "cell_type": "code",
   "execution_count": 27,
   "metadata": {},
   "outputs": [],
   "source": [
    "MBONS_sign=[-1,-1,-1,-1,-1,-1,-1,-1,-1,1,1,1,1,1,1,1]"
   ]
  },
  {
   "cell_type": "code",
   "execution_count": 28,
   "metadata": {},
   "outputs": [],
   "source": [
    "i=0\n",
    "j=0\n",
    "for mbons in MBONS:\n",
    "    j=0\n",
    "    for dans in DANs:\n",
    "        for mbon in mbons:\n",
    "            for dan in dans:\n",
    "                k=lobes_dict[mbon]\n",
    "                l=lobes_dict[dan]\n",
    "                Lobes_connectivity_matrix[k,l]=Lobes_connectivity_matrix[k,l]+MBONS_sign[i]*MBON_2_DANS[i,j]/len(mbons)\n",
    "                Lobes_connectivity_matrix[l,k]=Lobes_connectivity_matrix[l,k]+MBONS_sign[i]*MBON_2_DANS[i,j]/len(mbons)\n",
    "        j=j+1\n",
    "    i=i+1"
   ]
  },
  {
   "cell_type": "code",
   "execution_count": 29,
   "metadata": {},
   "outputs": [],
   "source": [
    "# Fig 13: Axon/axon connection from kenyon cell input. Give an indirect connection between DANs. Add a 1 in the matrix.\n",
    "\n",
    "# gamma KC:\n",
    "# gamma4, gamma5, gamma3, gamma1, gamma2, alphap1 \n",
    "# alpha-beta' KC:\n",
    "# gamma2, alpha'1, alpha'2, alpha2, alpha'3, beta'2, beta'1, beta2\n",
    "# alpha-beta KC:\n",
    "# gamma1, alpha'2, alpha2, beta2, beta'2, beta1, alpha1, alpha 3\n",
    "\n",
    "LobeList=set(zip(range(15),lobes))\n",
    "\n",
    "GKC=[13,14,12,10,11,3]\n",
    "ABpKC=[11,3,4,1,5,9,7]\n",
    "ABKC=[10,4,1,7,9,6,0,2]\n",
    "\n",
    "import itertools\n",
    "\n",
    "for pair in list(itertools.product(GKC,GKC)):\n",
    "    Lobes_connectivity_matrix[pair]=Lobes_connectivity_matrix[pair]+0.5\n",
    "\n",
    "for pair in list(itertools.product(ABpKC,ABpKC)):\n",
    "    Lobes_connectivity_matrix[pair]=Lobes_connectivity_matrix[pair]+0.5\n",
    "\n",
    "for pair in list(itertools.product(ABKC,ABKC)):\n",
    "    Lobes_connectivity_matrix[pair]=Lobes_connectivity_matrix[pair]+0.5"
   ]
  },
  {
   "cell_type": "code",
   "execution_count": 30,
   "metadata": {},
   "outputs": [],
   "source": [
    "Lobes_connectivity_matrix_help=Lobes_connectivity_matrix\n",
    "\n",
    "for i in range(15):\n",
    "    Lobes_connectivity_matrix_help[i,i]=0\n",
    "\n",
    "for i in range(15):\n",
    "    Lobes_connectivity_matrix[i,i]=np.max(np.max(Lobes_connectivity_matrix_help))"
   ]
  },
  {
   "cell_type": "code",
   "execution_count": 31,
   "metadata": {
    "scrolled": true
   },
   "outputs": [
    {
     "data": {
      "image/png": "[encoded data removed]",
      "text/plain": [
       "<Figure size 720x504 with 2 Axes>"
      ]
     },
     "metadata": {
      "needs_background": "light"
     },
     "output_type": "display_data"
    }
   ],
   "source": [
    "plt.figure(figsize=(10, 7))\n",
    "\n",
    "# plot the heatmap\n",
    "sns.heatmap(Lobes_connectivity_matrix, \n",
    "        xticklabels=LobesGreek,\n",
    "        yticklabels=LobesGreek,center=0, cmap='RdBu_r')\n",
    "\n",
    "plt.savefig('AnatMatrix.svg')\n",
    "plt.savefig('AnatMatrix.png')"
   ]
  },
  {
   "cell_type": "code",
   "execution_count": 32,
   "metadata": {},
   "outputs": [
    {
     "data": {
      "image/png": "[encoded data removed]",
      "text/plain": [
       "<Figure size 288x504 with 1 Axes>"
      ]
     },
     "metadata": {
      "needs_background": "light"
     },
     "output_type": "display_data"
    }
   ],
   "source": [
    "from scipy.cluster.hierarchy import dendrogram, linkage\n",
    "\n",
    "# generate the linkage matrix\n",
    "Z = linkage(Lobes_connectivity_matrix, 'ward')\n",
    "\n",
    "# calculate full dendrogram\n",
    "plt.figure(figsize=(4, 7))\n",
    "plt.title('Hierarchical Clustering Dendrogram')\n",
    "plt.xlabel('sample index')\n",
    "plt.ylabel('Distance')\n",
    "dendrogram(\n",
    "    Z,\n",
    "    orientation=\"left\", \n",
    "    labels=LobesGreek,\n",
    "    leaf_font_size=20\n",
    ")\n",
    "\n",
    "plt.savefig('CorrelationDendogramAnat.svg')\n",
    "plt.savefig('CorrelationDendogramAnat.png')"
   ]
  },
  {
   "cell_type": "code",
   "execution_count": 33,
   "metadata": {},
   "outputs": [],
   "source": [
    "# Potential other less direct connections"
   ]
  },
  {
   "cell_type": "code",
   "execution_count": 34,
   "metadata": {},
   "outputs": [
    {
     "name": "stdout",
     "output_type": "stream",
     "text": [
      "[(0, 'a1'), (1, 'a2'), (2, 'a3'), (3, 'ap1'), (4, 'ap2'), (5, 'ap3'), (6, 'b1'), (7, 'b2'), (8, 'bp1'), (9, 'bp2'), (10, 'g1'), (11, 'g2'), (12, 'g3'), (13, 'g4'), (14, 'g5')]\n"
     ]
    }
   ],
   "source": [
    "# We identified three MBONs that appear to interconnect different compartments of the MB lobes> This makes additional indirect connections between the DANs\n",
    "\n",
    "# beta1 to alpha2 and alpha 3 and alpha 1  (glut and gaba), gamma 4 to gamma 1 and gamma 2 (glu), gamma 1 to beta1 beta2 alpha1 alpha2 and alpha3 (glu)\n",
    "\n",
    "print(sorted(LobeList))\n",
    "\n",
    "Lobes_connectivity_matrix[6,0]+=-0.5\n",
    "Lobes_connectivity_matrix[6,1]+=-0.5\n",
    "Lobes_connectivity_matrix[6,2]+=-0.5\n",
    "Lobes_connectivity_matrix[0,6]+=-0.5\n",
    "Lobes_connectivity_matrix[1,6]+=-0.5\n",
    "Lobes_connectivity_matrix[2,6]+=-0.5\n",
    "\n",
    "Lobes_connectivity_matrix[10,13]+=-0.5\n",
    "Lobes_connectivity_matrix[11,13]+=-0.5\n",
    "# would remove next two lines if directed\n",
    "Lobes_connectivity_matrix[13,10]+=-0.5\n",
    "Lobes_connectivity_matrix[13,11]+=-0.5\n",
    "\n",
    "\n",
    "Lobes_connectivity_matrix[10,6]+=-0.5\n",
    "Lobes_connectivity_matrix[10,7]+=-0.5\n",
    "Lobes_connectivity_matrix[10,0]+=-0.5\n",
    "Lobes_connectivity_matrix[10,1]+=-0.5\n",
    "Lobes_connectivity_matrix[10,2]+=-0.5\n",
    "\n",
    "Lobes_connectivity_matrix[6,10]+=-0.5\n",
    "Lobes_connectivity_matrix[7,10]+=-0.5\n",
    "Lobes_connectivity_matrix[0,10]+=-0.5\n",
    "Lobes_connectivity_matrix[1,10]+=-0.5\n",
    "Lobes_connectivity_matrix[2,10]+=-0.5"
   ]
  },
  {
   "cell_type": "code",
   "execution_count": 35,
   "metadata": {},
   "outputs": [],
   "source": [
    "# Old way"
   ]
  },
  {
   "cell_type": "code",
   "execution_count": 36,
   "metadata": {},
   "outputs": [],
   "source": [
    "# g5 b'2a to g5 and b'2a\n",
    "Lobes_connectivity_matrix[14,7]-=-0.5\n",
    "Lobes_connectivity_matrix[7,14]-=-0.5\n",
    "\n",
    "Lobes_connectivity_matrix[14,9]-=-0.5\n",
    "Lobes_connectivity_matrix[9,14]-=-0.5\n",
    "\n",
    "Lobes_connectivity_matrix[14,8]-=-0.5\n",
    "Lobes_connectivity_matrix[8,14]-=-0.5\n",
    "\n",
    "Lobes_connectivity_matrix[14,12]-=-0.5\n",
    "Lobes_connectivity_matrix[12,14]-=-0.5\n",
    "\n",
    "Lobes_connectivity_matrix[9,3]-=-0.5\n",
    "Lobes_connectivity_matrix[3,9]-=-0.5\n",
    "\n",
    "Lobes_connectivity_matrix[7,6]-=-0.5\n",
    "Lobes_connectivity_matrix[6,7]-=-0.5\n",
    "\n",
    "Lobes_connectivity_matrix[9,6]-=-0.5\n",
    "Lobes_connectivity_matrix[6,9]-=-0.5\n",
    "\n",
    "Lobes_connectivity_matrix[9,7]-=-0.5\n",
    "Lobes_connectivity_matrix[7,9]-=-0.5\n",
    "\n",
    "Lobes_connectivity_matrix[9,12]-=-0.5\n",
    "Lobes_connectivity_matrix[12,9]-=-0.5\n",
    "\n",
    "Lobes_connectivity_matrix[9,8]-=-0.5\n",
    "Lobes_connectivity_matrix[8,9]-=-0.5\n",
    "\n",
    "Lobes_connectivity_matrix[9,11]-=0.5\n",
    "Lobes_connectivity_matrix[11,9]-=0.5"
   ]
  },
  {
   "cell_type": "code",
   "execution_count": 37,
   "metadata": {},
   "outputs": [],
   "source": [
    "Lobes_connectivity_matrix[11,14]=1\n",
    "Lobes_connectivity_matrix[14,11]=1\n",
    "\n",
    "Lobes_connectivity_matrix[3,14]=1\n",
    "Lobes_connectivity_matrix[14,3]=1\n",
    "\n",
    "Lobes_connectivity_matrix[11,9]=1\n",
    "Lobes_connectivity_matrix[9,11]=1\n",
    "\n",
    "Lobes_connectivity_matrix[3,9]=1\n",
    "Lobes_connectivity_matrix[9,3]=1\n",
    "\n",
    "Lobes_connectivity_matrix[11,7]=1\n",
    "Lobes_connectivity_matrix[7,11]=1\n",
    "\n",
    "Lobes_connectivity_matrix[11,9]=1\n",
    "Lobes_connectivity_matrix[9,11]=1\n",
    "\n",
    "Lobes_connectivity_matrix[11,13]=1\n",
    "Lobes_connectivity_matrix[13,11]=1\n",
    "\n",
    "Lobes_connectivity_matrix[11,12]=1\n",
    "Lobes_connectivity_matrix[12,11]=1\n",
    "\n",
    "Lobes_connectivity_matrix[11,8]=1\n",
    "Lobes_connectivity_matrix[8,11]=1\n"
   ]
  },
  {
   "cell_type": "code",
   "execution_count": 38,
   "metadata": {},
   "outputs": [
    {
     "name": "stdout",
     "output_type": "stream",
     "text": [
      "[(0, 'a1'), (1, 'a2'), (2, 'a3'), (3, 'ap1'), (4, 'ap2'), (5, 'ap3'), (6, 'b1'), (7, 'b2'), (8, 'bp1'), (9, 'bp2'), (10, 'g1'), (11, 'g2'), (12, 'g3'), (13, 'g4'), (14, 'g5')]\n"
     ]
    }
   ],
   "source": [
    "print(sorted(LobeList))"
   ]
  },
  {
   "cell_type": "code",
   "execution_count": 39,
   "metadata": {},
   "outputs": [],
   "source": [
    "Lobes_connectivity_matrix[3,13]=1\n",
    "Lobes_connectivity_matrix[13,3]=1\n",
    "\n",
    "Lobes_connectivity_matrix[3,12]=1\n",
    "Lobes_connectivity_matrix[12,3]=1\n",
    "\n",
    "Lobes_connectivity_matrix[3,8]=1\n",
    "Lobes_connectivity_matrix[8,3]=1\n",
    "\n",
    "Lobes_connectivity_matrix[3,4]=1\n",
    "Lobes_connectivity_matrix[4,3]=1\n",
    "\n",
    "Lobes_connectivity_matrix[3,1]=1\n",
    "Lobes_connectivity_matrix[1,3]=1\n",
    "\n",
    "Lobes_connectivity_matrix[5,9]=1\n",
    "Lobes_connectivity_matrix[9,5]=1\n",
    "\n",
    "Lobes_connectivity_matrix[5,8]=1\n",
    "Lobes_connectivity_matrix[8,5]=1\n",
    "\n",
    "Lobes_connectivity_matrix[4,6]=1\n",
    "Lobes_connectivity_matrix[6,4]=1\n",
    "\n",
    "Lobes_connectivity_matrix[1,5]=1\n",
    "Lobes_connectivity_matrix[5,1]=1\n",
    "\n",
    "Lobes_connectivity_matrix[1,0]=1\n",
    "Lobes_connectivity_matrix[0,1]=1\n",
    "\n",
    "Lobes_connectivity_matrix[2,4]=1\n",
    "Lobes_connectivity_matrix[4,2]=1\n",
    "\n",
    "Lobes_connectivity_matrix[1,2]=1\n",
    "Lobes_connectivity_matrix[2,1]=1"
   ]
  },
  {
   "cell_type": "code",
   "execution_count": 40,
   "metadata": {},
   "outputs": [],
   "source": [
    "Lobes_connectivity_matrix[11,12]+=1\n",
    "Lobes_connectivity_matrix[12,11]+=1\n",
    "\n",
    "Lobes_connectivity_matrix[12,3]+=1\n",
    "Lobes_connectivity_matrix[3,12]+=1\n",
    "\n",
    "Lobes_connectivity_matrix[8,9]+=1\n",
    "Lobes_connectivity_matrix[9,8]+=1\n",
    "\n",
    "Lobes_connectivity_matrix[6,7]+=1\n",
    "Lobes_connectivity_matrix[7,6]+=1\n",
    "\n",
    "Lobes_connectivity_matrix[14,8]+=1\n",
    "Lobes_connectivity_matrix[8,14]+=1\n",
    "\n",
    "Lobes_connectivity_matrix[14,9]+=1\n",
    "Lobes_connectivity_matrix[9,14]+=1\n",
    "\n",
    "Lobes_connectivity_matrix[13,9]+=1\n",
    "Lobes_connectivity_matrix[9,13]+=1\n",
    "\n",
    "Lobes_connectivity_matrix[13,8]+=1\n",
    "Lobes_connectivity_matrix[8,13]+=1\n",
    "\n",
    "Lobes_connectivity_matrix[13,7]+=1\n",
    "Lobes_connectivity_matrix[7,13]+=1\n",
    "\n",
    "Lobes_connectivity_matrix[13,11]+=1\n",
    "Lobes_connectivity_matrix[11,13]+=1\n",
    "\n",
    "Lobes_connectivity_matrix[13,3]+=1\n",
    "Lobes_connectivity_matrix[3,13]+=1\n",
    "\n",
    "Lobes_connectivity_matrix[12,9]+=1\n",
    "Lobes_connectivity_matrix[9,12]+=1\n",
    "\n",
    "Lobes_connectivity_matrix[12,8]+=1\n",
    "Lobes_connectivity_matrix[8,12]+=1"
   ]
  },
  {
   "cell_type": "code",
   "execution_count": 41,
   "metadata": {},
   "outputs": [
    {
     "data": {
      "text/plain": [
       "<matplotlib.colorbar.Colorbar at 0x22fbd0de2e8>"
      ]
     },
     "execution_count": 41,
     "metadata": {},
     "output_type": "execute_result"
    },
    {
     "data": {
      "image/png": "[encoded data removed]",
      "text/plain": [
       "<Figure size 576x360 with 2 Axes>"
      ]
     },
     "metadata": {
      "needs_background": "light"
     },
     "output_type": "display_data"
    }
   ],
   "source": [
    "fig = plt.figure(figsize=(8,5))\n",
    "ax = fig.add_subplot(111)\n",
    "cax = ax.matshow(Lobes_connectivity_matrix,interpolation='nearest')\n",
    "fig.colorbar(cax)"
   ]
  },
  {
   "cell_type": "code",
   "execution_count": 43,
   "metadata": {},
   "outputs": [
    {
     "data": {
      "text/plain": [
       "<matplotlib.axes._subplots.AxesSubplot at 0x22fbe482860>"
      ]
     },
     "execution_count": 43,
     "metadata": {},
     "output_type": "execute_result"
    },
    {
     "data": {
      "image/png": "[encoded data removed]",
      "text/plain": [
       "<Figure size 432x288 with 2 Axes>"
      ]
     },
     "metadata": {
      "needs_background": "light"
     },
     "output_type": "display_data"
    }
   ],
   "source": [
    "import seaborn as sns\n",
    "# plot the heatmap\n",
    "sns.heatmap(Lobes_connectivity_matrix, \n",
    "        xticklabels=LobesGreek,\n",
    "        yticklabels=LobesGreek)"
   ]
  }
 ],
 "metadata": {
  "kernelspec": {
   "display_name": "Python 3",
   "language": "python",
   "name": "python3"
  },
  "language_info": {
   "codemirror_mode": {
    "name": "ipython",
    "version": 3
   },
   "file_extension": ".py",
   "mimetype": "text/x-python",
   "name": "python",
   "nbconvert_exporter": "python",
   "pygments_lexer": "ipython3",
   "version": "3.7.1"
  }
 },
 "nbformat": 4,
 "nbformat_minor": 2
}
