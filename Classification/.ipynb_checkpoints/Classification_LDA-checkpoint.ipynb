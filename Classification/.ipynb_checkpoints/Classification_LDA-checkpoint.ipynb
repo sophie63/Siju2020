{
 "cells": [
  {
   "cell_type": "code",
   "execution_count": 1,
   "metadata": {},
   "outputs": [],
   "source": [
    "%matplotlib inline\n",
    "import numpy as np\n",
    "import pandas as pd\n",
    "import matplotlib.pyplot as plt\n",
    "#plt.style.use(\"v_paper\")\n",
    "import deepdish as dd\n",
    "from sklearn.discriminant_analysis import LinearDiscriminantAnalysis\n",
    "import matplotlib as mpl"
   ]
  },
  {
   "cell_type": "code",
   "execution_count": 2,
   "metadata": {},
   "outputs": [],
   "source": [
    "esum = dd.io.load(\"experiments_summary.h5\")\n",
    "lobe_data= pd.DataFrame(esum[\"lobe_summary\"])\n",
    "lobe_activities = np.row_stack(esum[\"df_fs\"])"
   ]
  },
  {
   "cell_type": "code",
   "execution_count": 3,
   "metadata": {},
   "outputs": [],
   "source": [
    " plt.rcParams[\"font.family\"] = \"Arial\""
   ]
  },
  {
   "cell_type": "code",
   "execution_count": 4,
   "metadata": {},
   "outputs": [],
   "source": [
    "lobe_data[\"df_f\"] = np.mean(lobe_activities[:, 32:35], 1)"
   ]
  },
  {
   "cell_type": "code",
   "execution_count": 5,
   "metadata": {},
   "outputs": [],
   "source": [
    "dictionaryType={1:'ester',2:'ketone',3: 'alcohol',4:'terpene'}"
   ]
  },
  {
   "cell_type": "code",
   "execution_count": 7,
   "metadata": {},
   "outputs": [],
   "source": [
    "Lobes=lobe_data.lobe.unique()\n",
    "LobesGreek=['α1', 'α2', 'α3', \"α'1\", \"α'2\", \"α'3\", 'β1', 'β2', \"β'1\", \"β'2\",\n",
    "       'γ1', 'γ2', 'γ3', 'γ4', 'γ5']\n",
    "\n",
    "dictionaryGreek = dict(zip(Lobes, LobesGreek))\n",
    "\n",
    "lobe_data[\"greek_lobe\"] = [dictionaryGreek[l] for l in lobe_data.lobe]"
   ]
  },
  {
   "cell_type": "markdown",
   "metadata": {},
   "source": [
    "Peppermint: terpenes? It is also mix, so difficult to classify\n",
    "Citronella: terpene? It is also mix, so difficult to classify\n",
    "     \n",
    "\"Vinegar\": acid, food-related\n",
    "\"Yeast\": food-related\n",
    "\"Isoamylacetate\": acid?\n",
    "\"2-Heptanone\": ketone\n",
    "\"1-Heptanone\":  ketone\n",
    "    \n",
    "\"cVA\": acid?, pheromone\n",
    "        \"3Octanol\": alcohol\n",
    "        \"Ethanol\": alcohol, food-related?\n",
    "\n",
    "\"1-Hexanol\": alcohol,\n",
    "\"Peppermint\": mix\n",
    "\"4MCH\": alcohol\n",
    "\"Citronella\": more like a ketone?\n",
    "\"Geosmin\": alcohol"
   ]
  },
  {
   "cell_type": "code",
   "execution_count": 8,
   "metadata": {},
   "outputs": [],
   "source": [
    "Odor_type_map = {\n",
    "\"Vinegar\": 1,\n",
    "\"Yeast\": 1,\n",
    "\"Isoamylacetate\": 1,\n",
    "\"2-Heptanone\": 2,\n",
    "\"1-Heptanone\":2,\n",
    "    \n",
    "\"cVA\": 1,\n",
    "        \"3Octanol\":3,\n",
    "        \"Ethanol\": 3,\n",
    "\n",
    "\"1-Hexanol\":3,\n",
    "\"Peppermint\":4,\n",
    "\"4MCH\":3,\n",
    "\"Citronella\":4,\n",
    "\"Geosmin\":3,\n",
    "}\n",
    "#ester:1, ketone:2, alcohol:3, terpene:4\n",
    "\n",
    "lobe_data[\"odor_type\"] = [Odor_type_map[s] for s in lobe_data.stimulus]"
   ]
  },
  {
   "cell_type": "code",
   "execution_count": 9,
   "metadata": {},
   "outputs": [],
   "source": [
    "valence_map = {\n",
    "\"Vinegar\": 1,\n",
    "\"Yeast\": 1,\n",
    "\"Isoamylacetate\": np.nan,\n",
    "\"2-Heptanone\": np.nan,\n",
    "\"1-Heptanone\": np.nan,\n",
    "    \n",
    "\"cVA\": np.nan,\n",
    "        \"3Octanol\": np.nan,\n",
    "        \"Ethanol\": np.nan,\n",
    "\n",
    "\"1-Hexanol\": np.nan,\n",
    "\"Peppermint\": -1,\n",
    "\"4MCH\": np.nan,\n",
    "\"Citronella\": -1,\n",
    "\"Geosmin\": -1,\n",
    "}\n",
    "\n",
    "lobe_data[\"valence\"] = [valence_map[s] for s in lobe_data.stimulus]"
   ]
  },
  {
   "cell_type": "code",
   "execution_count": 10,
   "metadata": {},
   "outputs": [],
   "source": [
    "lobes = lobe_data.lobe.unique()\n",
    "n_lobes = len(lobes)\n",
    "n_time = lobe_activities.shape[1]"
   ]
  },
  {
   "cell_type": "markdown",
   "metadata": {},
   "source": [
    "# LDA starvation"
   ]
  },
  {
   "cell_type": "code",
   "execution_count": 11,
   "metadata": {},
   "outputs": [],
   "source": [
    "lobe_data_st=lobe_data[lobe_data.hours_starved.isin({0,48})]\n",
    "\n",
    "lobe_data_st=lobe_data_st.set_index(np.array(range(len(lobe_data_st))))"
   ]
  },
  {
   "cell_type": "code",
   "execution_count": 12,
   "metadata": {},
   "outputs": [],
   "source": [
    "Samples=np.int(len(lobe_data_st)/15)"
   ]
  },
  {
   "cell_type": "code",
   "execution_count": 13,
   "metadata": {},
   "outputs": [],
   "source": [
    "Hours_starved=np.zeros((Samples,1))\n",
    "for i in range(Samples):\n",
    "    Hours_starved[i]=lobe_data_st[\"hours_starved\"][i*15]    "
   ]
  },
  {
   "cell_type": "code",
   "execution_count": 14,
   "metadata": {},
   "outputs": [],
   "source": [
    "Lobe_mean_activity_matrix_st=np.zeros((Samples,15))\n",
    "#Lobe_odor_tensor=np.zeros((107,15,80))\n",
    "for i in range(int(len(lobe_data_st)/15)):\n",
    "    for j in range(15):\n",
    "        Lobe_mean_activity_matrix_st[i,j]=lobe_data_st[\"df_f\"][i*15+j]        \n",
    "        #Lobe_odor_tensor[i,j,:]=lobe_activities[i*15+j,:] \n",
    "        #print(lobe_data[\"lobe\"][i*15+j])"
   ]
  },
  {
   "cell_type": "code",
   "execution_count": 15,
   "metadata": {},
   "outputs": [],
   "source": [
    "X = Lobe_mean_activity_matrix_st\n",
    "y = Hours_starved"
   ]
  },
  {
   "cell_type": "code",
   "execution_count": 16,
   "metadata": {},
   "outputs": [
    {
     "name": "stderr",
     "output_type": "stream",
     "text": [
      "C:\\Users\\aimon\\Anaconda3\\lib\\site-packages\\sklearn\\utils\\validation.py:761: DataConversionWarning: A column-vector y was passed when a 1d array was expected. Please change the shape of y to (n_samples, ), for example using ravel().\n",
      "  y = column_or_1d(y, warn=True)\n",
      "C:\\Users\\aimon\\Anaconda3\\lib\\site-packages\\sklearn\\utils\\validation.py:761: DataConversionWarning: A column-vector y was passed when a 1d array was expected. Please change the shape of y to (n_samples, ), for example using ravel().\n",
      "  y = column_or_1d(y, warn=True)\n"
     ]
    }
   ],
   "source": [
    "clf = LinearDiscriminantAnalysis()\n",
    "clf.fit(X, y)\n",
    "X_lda = clf.fit(X,y).transform(X)"
   ]
  },
  {
   "cell_type": "code",
   "execution_count": 17,
   "metadata": {},
   "outputs": [
    {
     "data": {
      "text/plain": [
       "(257, 1)"
      ]
     },
     "execution_count": 17,
     "metadata": {},
     "output_type": "execute_result"
    }
   ],
   "source": [
    "X_lda.shape"
   ]
  },
  {
   "cell_type": "code",
   "execution_count": 18,
   "metadata": {},
   "outputs": [
    {
     "data": {
      "text/plain": [
       "(1, 15)"
      ]
     },
     "execution_count": 18,
     "metadata": {},
     "output_type": "execute_result"
    }
   ],
   "source": [
    "clf.coef_.shape"
   ]
  },
  {
   "cell_type": "code",
   "execution_count": 19,
   "metadata": {},
   "outputs": [
    {
     "data": {
      "text/plain": [
       "(15, 1)"
      ]
     },
     "execution_count": 19,
     "metadata": {},
     "output_type": "execute_result"
    }
   ],
   "source": [
    "clf.scalings_.shape"
   ]
  },
  {
   "cell_type": "code",
   "execution_count": 20,
   "metadata": {},
   "outputs": [
    {
     "data": {
      "image/png": "[encoded data removed]",
      "text/plain": [
       "<Figure size 432x288 with 1 Axes>"
      ]
     },
     "metadata": {
      "needs_background": "light"
     },
     "output_type": "display_data"
    }
   ],
   "source": [
    "mpl.rcParams.update({'font.size': 14})\n",
    "\n",
    "plt.plot(clf.coef_.T)\n",
    "plt.xlabel('Lobe')\n",
    "plt.xticks(range(15),\n",
    "           LobesGreek)\n",
    "plt.savefig('CoeffClassificationHunger.svg')\n",
    "plt.show()\n"
   ]
  },
  {
   "cell_type": "code",
   "execution_count": 21,
   "metadata": {},
   "outputs": [
    {
     "name": "stdout",
     "output_type": "stream",
     "text": [
      "Evaluation for: X_lda\n",
      "Accuracy:  0.6923076923076923\n",
      "[[17  8]\n",
      " [ 8 19]]\n"
     ]
    },
    {
     "name": "stderr",
     "output_type": "stream",
     "text": [
      "C:\\Users\\aimon\\Anaconda3\\lib\\site-packages\\sklearn\\ensemble\\forest.py:246: FutureWarning: The default value of n_estimators will change from 10 in version 0.20 to 100 in 0.22.\n",
      "  \"10 in version 0.20 to 100 in 0.22.\", FutureWarning)\n",
      "C:\\Users\\aimon\\Anaconda3\\lib\\site-packages\\ipykernel_launcher.py:16: DataConversionWarning: A column-vector y was passed when a 1d array was expected. Please change the shape of y to (n_samples,), for example using ravel().\n",
      "  app.launch_new_instance()\n"
     ]
    }
   ],
   "source": [
    "## CLASSIFIER - Evaluation of the techniques via confusion matrix\n",
    "from sklearn.model_selection import train_test_split\n",
    "from sklearn.ensemble import RandomForestClassifier\n",
    "from sklearn.metrics import confusion_matrix  \n",
    "from sklearn.metrics import accuracy_score\n",
    " \n",
    "classifier = RandomForestClassifier(max_depth=2, random_state=0)\n",
    " \n",
    "def perform_evaluation(feature_set,target_set):\n",
    "    def namestr(obj, namespace):\n",
    "        return [name for name in namespace if namespace[name] is obj]\n",
    "    print(\"Evaluation for:\",namestr(feature_set,globals())[0])\n",
    "    feat_train, feat_test, target_train, target_test = train_test_split(feature_set, target_set, test_size=0.2, random_state=3)\n",
    "# pass initial state to generate same indexes\n",
    " \n",
    "    classifier.fit(feat_train, target_train)\n",
    "    predicted = classifier.predict(feat_test)\n",
    "    #In multilabel classification, this function computes subset accuracy: the set of labels predicted for a sample must exactly match the corresponding set of labels in y_true.\n",
    "    print(\"Accuracy: \",accuracy_score(target_test, predicted))\n",
    "    print(confusion_matrix(target_test, predicted))\n",
    " \n",
    "perform_evaluation(X_lda, y)"
   ]
  },
  {
   "cell_type": "code",
   "execution_count": 22,
   "metadata": {},
   "outputs": [
    {
     "data": {
      "image/png": "[encoded data removed]",
      "text/plain": [
       "<Figure size 864x432 with 1 Axes>"
      ]
     },
     "metadata": {
      "needs_background": "light"
     },
     "output_type": "display_data"
    }
   ],
   "source": [
    "import math\n",
    "mpl.rcParams.update({'font.size': 20})\n",
    "min_b = math.floor(np.min(X_lda))\n",
    "max_b = math.ceil(np.max(X_lda))\n",
    "bins = np.linspace(min_b, max_b, 25)\n",
    "fig, ax = plt.subplots(nrows=1, ncols=1, figsize=(12,6))\n",
    "# plottling the histograms\n",
    "for h,col in zip((0,48), ('green', 'yellow')):\n",
    "    ax.hist(X_lda[y==h],\n",
    "                   color=col,\n",
    "                   label=str(h)+\"hours starved\",\n",
    "                   bins=bins,\n",
    "                   alpha=0.5)\n",
    "\n",
    "    # plot annotation\n",
    "    leg = ax.legend(loc='upper right', fancybox=True, fontsize=20)\n",
    "    leg.get_frame().set_alpha(0.5)\n",
    "    ax.set_title('LDA Loadings')\n",
    "\n",
    "\n",
    "    # remove axis spines\n",
    "    #ax.spines[\"top\"].set_visible(False)  \n",
    "    #ax.spines[\"right\"].set_visible(False)\n",
    "    #ax.spines[\"bottom\"].set_visible(False)\n",
    "    #ax.spines[\"left\"].set_visible(False)    \n",
    "\n",
    "plt.show()\n",
    "fig.savefig('HistClassificationHunger.svg')"
   ]
  },
  {
   "cell_type": "code",
   "execution_count": 23,
   "metadata": {},
   "outputs": [
    {
     "data": {
      "text/plain": [
       "(1, 15)"
      ]
     },
     "execution_count": 23,
     "metadata": {},
     "output_type": "execute_result"
    }
   ],
   "source": [
    "clf.coef_.shape"
   ]
  },
  {
   "cell_type": "code",
   "execution_count": 24,
   "metadata": {},
   "outputs": [
    {
     "name": "stdout",
     "output_type": "stream",
     "text": [
      "['a1' 'a2' 'a3' 'ap1' 'ap2' 'ap3' 'b1' 'b2' 'bp1' 'bp2' 'g1' 'g2' 'g3'\n",
      " 'g4' 'g5']\n"
     ]
    },
    {
     "data": {
      "text/plain": [
       "<matplotlib.colorbar.Colorbar at 0x2160b397828>"
      ]
     },
     "execution_count": 24,
     "metadata": {},
     "output_type": "execute_result"
    },
    {
     "data": {
      "image/png": "[encoded data removed]",
      "text/plain": [
       "<Figure size 432x288 with 2 Axes>"
      ]
     },
     "metadata": {
      "needs_background": "light"
     },
     "output_type": "display_data"
    }
   ],
   "source": [
    "print(lobes)\n",
    "plt.imshow(clf.coef_, cmap='viridis')\n",
    "plt.colorbar()"
   ]
  },
  {
   "cell_type": "code",
   "execution_count": 26,
   "metadata": {},
   "outputs": [
    {
     "data": {
      "image/png": "[encoded data removed]",
      "text/plain": [
       "<Figure size 720x216 with 5 Axes>"
      ]
     },
     "metadata": {
      "needs_background": "light"
     },
     "output_type": "display_data"
    }
   ],
   "source": [
    "fig, axs = plt.subplots(5, 1, figsize=(10, 3))\n",
    "i=0\n",
    "LobeValues=clf.coef_\n",
    "for ax, interp in zip(axs, [3,6,8,10,15]):\n",
    "    OneLobe=LobeValues[0,range(i,interp)].reshape(1,interp-i)\n",
    "    ax.imshow(OneLobe, cmap='viridis', vmin=-np.max(clf.coef_),vmax=np.max(clf.coef_))\n",
    "    ax.grid(False)\n",
    "    #ax.axis('off')\n",
    "    ax.xaxis.set_ticks_position('none') \n",
    "    ax.set_yticklabels([])\n",
    "    ax.set_xticklabels([])\n",
    "    ax.yaxis.set_ticks_position('none')  \n",
    "    i=interp\n",
    "\n",
    "plt.show()\n",
    "fig.savefig('ColorClassificationHunger.svg')"
   ]
  },
  {
   "cell_type": "markdown",
   "metadata": {},
   "source": [
    "# LDA valence"
   ]
  },
  {
   "cell_type": "code",
   "execution_count": 27,
   "metadata": {
    "scrolled": true
   },
   "outputs": [],
   "source": [
    "lobe_data_val=lobe_data[lobe_data.valence.isin({1,-1})]\n",
    "\n",
    "lobe_data_val=lobe_data_val.set_index(np.array(range(len(lobe_data_val))))"
   ]
  },
  {
   "cell_type": "code",
   "execution_count": 28,
   "metadata": {},
   "outputs": [],
   "source": [
    "Samples=np.int(len(lobe_data_val)/15)"
   ]
  },
  {
   "cell_type": "code",
   "execution_count": 29,
   "metadata": {},
   "outputs": [],
   "source": [
    "Lobe_mean_activity_matrix_val=np.zeros((Samples,15))\n",
    "#Lobe_odor_tensor=np.zeros((107,15,80))\n",
    "for i in range(Samples):\n",
    "    for j in range(15):\n",
    "        Lobe_mean_activity_matrix_val[i,j]=lobe_data_val[\"df_f\"][i*15+j]        \n",
    "        #Lobe_odor_tensor[i,j,:]=lobe_activities[i*15+j,:] \n",
    "        #print(lobe_data[\"lobe\"][i*15+j])"
   ]
  },
  {
   "cell_type": "code",
   "execution_count": 30,
   "metadata": {},
   "outputs": [],
   "source": [
    "Valence=np.zeros((Samples,1))\n",
    "for i in range(Samples):\n",
    "    Valence[i]=lobe_data_val[\"valence\"][i*15]"
   ]
  },
  {
   "cell_type": "code",
   "execution_count": 31,
   "metadata": {},
   "outputs": [
    {
     "name": "stderr",
     "output_type": "stream",
     "text": [
      "C:\\Users\\aimon\\Anaconda3\\lib\\site-packages\\sklearn\\utils\\validation.py:761: DataConversionWarning: A column-vector y was passed when a 1d array was expected. Please change the shape of y to (n_samples, ), for example using ravel().\n",
      "  y = column_or_1d(y, warn=True)\n",
      "C:\\Users\\aimon\\Anaconda3\\lib\\site-packages\\sklearn\\utils\\validation.py:761: DataConversionWarning: A column-vector y was passed when a 1d array was expected. Please change the shape of y to (n_samples, ), for example using ravel().\n",
      "  y = column_or_1d(y, warn=True)\n"
     ]
    }
   ],
   "source": [
    "X = Lobe_mean_activity_matrix_val\n",
    "y = Valence\n",
    "clf = LinearDiscriminantAnalysis()\n",
    "clf.fit(X, y)\n",
    "X_lda = clf.fit(X,y).transform(X)"
   ]
  },
  {
   "cell_type": "code",
   "execution_count": 32,
   "metadata": {},
   "outputs": [
    {
     "data": {
      "image/png": "[encoded data removed]",
      "text/plain": [
       "<Figure size 432x288 with 2 Axes>"
      ]
     },
     "metadata": {
      "needs_background": "light"
     },
     "output_type": "display_data"
    }
   ],
   "source": [
    "plt.imshow(clf.coef_, cmap='bwr',vmin=-3, vmax=+3)\n",
    "plt.colorbar()\n",
    "plt.savefig('ColorClassificationVarianceBar.svg')"
   ]
  },
  {
   "cell_type": "code",
   "execution_count": 33,
   "metadata": {},
   "outputs": [
    {
     "data": {
      "image/png": "[encoded data removed]",
      "text/plain": [
       "<Figure size 720x216 with 5 Axes>"
      ]
     },
     "metadata": {
      "needs_background": "light"
     },
     "output_type": "display_data"
    }
   ],
   "source": [
    "fig, axs = plt.subplots(5, 1, figsize=(10, 3))\n",
    "i=0\n",
    "LobeValues=clf.coef_\n",
    "for ax, interp in zip(axs, [3,6,8,10,15]):\n",
    "    OneLobe=LobeValues[0,range(i,interp)].reshape(1,interp-i)\n",
    "    ax.imshow(OneLobe, cmap='bwr', vmin=-3,vmax=3)\n",
    "    ax.grid(False)\n",
    "    #ax.axis('off')\n",
    "    ax.xaxis.set_ticks_position('none') \n",
    "    ax.set_yticklabels([])\n",
    "    ax.set_xticklabels([])\n",
    "    ax.yaxis.set_ticks_position('none')  \n",
    "    i=interp\n",
    "\n",
    "plt.show()\n",
    "fig.savefig('ColorClassificationValence.svg')"
   ]
  },
  {
   "cell_type": "code",
   "execution_count": 34,
   "metadata": {},
   "outputs": [
    {
     "data": {
      "image/png": "[encoded data removed]",
      "text/plain": [
       "<Figure size 432x288 with 1 Axes>"
      ]
     },
     "metadata": {
      "needs_background": "light"
     },
     "output_type": "display_data"
    }
   ],
   "source": [
    "mpl.rcParams.update({'font.size': 14})\n",
    "\n",
    "plt.plot(clf.coef_.T)\n",
    "plt.xlabel('Lobe')\n",
    "plt.xticks(range(15),\n",
    "           LobesGreek)\n",
    "plt.savefig('CoeffClassificationValence.svg')\n",
    "plt.show()\n"
   ]
  },
  {
   "cell_type": "code",
   "execution_count": 35,
   "metadata": {},
   "outputs": [
    {
     "name": "stdout",
     "output_type": "stream",
     "text": [
      "Evaluation for: X_lda\n",
      "Accuracy:  0.7222222222222222\n",
      "[[10  5]\n",
      " [ 5 16]]\n"
     ]
    },
    {
     "name": "stderr",
     "output_type": "stream",
     "text": [
      "C:\\Users\\aimon\\Anaconda3\\lib\\site-packages\\sklearn\\ensemble\\forest.py:246: FutureWarning: The default value of n_estimators will change from 10 in version 0.20 to 100 in 0.22.\n",
      "  \"10 in version 0.20 to 100 in 0.22.\", FutureWarning)\n",
      "C:\\Users\\aimon\\Anaconda3\\lib\\site-packages\\ipykernel_launcher.py:16: DataConversionWarning: A column-vector y was passed when a 1d array was expected. Please change the shape of y to (n_samples,), for example using ravel().\n",
      "  app.launch_new_instance()\n"
     ]
    }
   ],
   "source": [
    "## CLASSIFIER - Evaluation of the techniques via confusion matrix\n",
    "from sklearn.model_selection import train_test_split\n",
    "from sklearn.ensemble import RandomForestClassifier\n",
    "from sklearn.metrics import confusion_matrix  \n",
    "from sklearn.metrics import accuracy_score\n",
    " \n",
    "classifier = RandomForestClassifier(max_depth=2, random_state=0)\n",
    " \n",
    "def perform_evaluation(feature_set,target_set):\n",
    "    def namestr(obj, namespace):\n",
    "        return [name for name in namespace if namespace[name] is obj]\n",
    "    print(\"Evaluation for:\",namestr(feature_set,globals())[0])\n",
    "    feat_train, feat_test, target_train, target_test = train_test_split(feature_set, target_set, test_size=0.2, random_state=3)\n",
    "# pass initial state to generate same indexes\n",
    " \n",
    "    classifier.fit(feat_train, target_train)\n",
    "    predicted = classifier.predict(feat_test)\n",
    "    #In multilabel classification, this function computes subset accuracy: the set of labels predicted for a sample must exactly match the corresponding set of labels in y_true.\n",
    "    print(\"Accuracy: \",accuracy_score(target_test, predicted))\n",
    "    print(confusion_matrix(target_test, predicted))\n",
    " \n",
    "perform_evaluation(X_lda, y)"
   ]
  },
  {
   "cell_type": "code",
   "execution_count": 36,
   "metadata": {},
   "outputs": [
    {
     "data": {
      "image/png": "[encoded data removed]",
      "text/plain": [
       "<Figure size 864x432 with 1 Axes>"
      ]
     },
     "metadata": {
      "needs_background": "light"
     },
     "output_type": "display_data"
    }
   ],
   "source": [
    "import math\n",
    "mpl.rcParams.update({'font.size': 20})\n",
    "min_b = math.floor(np.min(X_lda))\n",
    "max_b = math.ceil(np.max(X_lda))\n",
    "bins = np.linspace(min_b, max_b, 25)\n",
    "fig, ax = plt.subplots(nrows=1, ncols=1, figsize=(12,6))\n",
    "# plottling the histograms\n",
    "for h,col in zip((-1,1), ('blue', 'red')):\n",
    "    ax.hist(X_lda[y==h],\n",
    "                   color=col,\n",
    "                   label=\"valence \"+str(h),\n",
    "                   bins=bins,\n",
    "                   alpha=0.5)\n",
    "\n",
    "    # plot annotation\n",
    "    leg = ax.legend(loc='upper right', fancybox=True, fontsize=20)\n",
    "    leg.get_frame().set_alpha(0.5)\n",
    "    ax.set_title('LDA Loadings')\n",
    "\n",
    "\n",
    "    # remove axis spines\n",
    "    #ax.spines[\"top\"].set_visible(False)  \n",
    "    #ax.spines[\"right\"].set_visible(False)\n",
    "    #ax.spines[\"bottom\"].set_visible(False)\n",
    "    #ax.spines[\"left\"].set_visible(False)    \n",
    "\n",
    "plt.show()\n",
    "fig.savefig('HistClassificationVariance.svg')"
   ]
  },
  {
   "cell_type": "code",
   "execution_count": 39,
   "metadata": {},
   "outputs": [
    {
     "name": "stdout",
     "output_type": "stream",
     "text": [
      "Evaluation for: X_lda\n",
      "Accuracy:  0.7222222222222222\n",
      "Chance: 1.0\n",
      "[[10  5]\n",
      " [ 5 16]]\n"
     ]
    },
    {
     "name": "stderr",
     "output_type": "stream",
     "text": [
      "C:\\Users\\aimon\\Anaconda3\\lib\\site-packages\\sklearn\\ensemble\\forest.py:246: FutureWarning: The default value of n_estimators will change from 10 in version 0.20 to 100 in 0.22.\n",
      "  \"10 in version 0.20 to 100 in 0.22.\", FutureWarning)\n",
      "C:\\Users\\aimon\\Anaconda3\\lib\\site-packages\\ipykernel_launcher.py:10: DataConversionWarning: A column-vector y was passed when a 1d array was expected. Please change the shape of y to (n_samples,), for example using ravel().\n",
      "  # Remove the CWD from sys.path while we load stuff.\n"
     ]
    }
   ],
   "source": [
    "classifier = RandomForestClassifier(max_depth=2, random_state=0)\n",
    " \n",
    "def perform_evaluation(feature_set,target_set):\n",
    "    def namestr(obj, namespace):\n",
    "        return [name for name in namespace if namespace[name] is obj]\n",
    "    print(\"Evaluation for:\",namestr(feature_set,globals())[0])\n",
    "    feat_train, feat_test, target_train, target_test = train_test_split(feature_set, target_set, test_size=0.2, random_state=3)\n",
    "# pass initial state to generate same indexes\n",
    " \n",
    "    classifier.fit(feat_train, target_train)\n",
    "    predicted = classifier.predict(feat_test)\n",
    "    #In multilabel classification, this function computes subset accuracy: the set of labels predicted for a sample must exactly match the corresponding set of labels in y_true.\n",
    "    print(\"Accuracy: \",accuracy_score(target_test, predicted))\n",
    "    Chance=1/np.max(target_set)\n",
    "    print(\"Chance: \"+str(Chance))\n",
    "    print(confusion_matrix(target_test, predicted))\n",
    " \n",
    "perform_evaluation(X_lda, y)\n"
   ]
  },
  {
   "cell_type": "code",
   "execution_count": null,
   "metadata": {},
   "outputs": [],
   "source": [
    "X_r=X_lda"
   ]
  },
  {
   "cell_type": "code",
   "execution_count": null,
   "metadata": {},
   "outputs": [],
   "source": [
    "i"
   ]
  },
  {
   "cell_type": "markdown",
   "metadata": {},
   "source": [
    "# LDA Stimulus"
   ]
  },
  {
   "cell_type": "code",
   "execution_count": null,
   "metadata": {},
   "outputs": [],
   "source": [
    "OdorID_map = {\n",
    "\"Vinegar\": 0,\n",
    "\"Yeast\": 1,\n",
    "\"Isoamylacetate\": 2,\n",
    "\"2-Heptanone\": 3,\n",
    "\"1-Heptanone\": 4,\n",
    "    \n",
    "\"cVA\": 5,\n",
    "        \"3Octanol\": 6,\n",
    "        \"Ethanol\": 7,\n",
    "\n",
    "\"1-Hexanol\": 8,\n",
    "\"Peppermint\": 9,\n",
    "\"4MCH\": 10,\n",
    "\"Citronella\": 11,\n",
    "\"Geosmin\": 12,\n",
    "}\n"
   ]
  },
  {
   "cell_type": "code",
   "execution_count": null,
   "metadata": {},
   "outputs": [],
   "source": [
    "Samples=np.int(len(lobe_data)/15)"
   ]
  },
  {
   "cell_type": "code",
   "execution_count": null,
   "metadata": {},
   "outputs": [],
   "source": [
    "Lobe_mean_activity_matrix=np.zeros((Samples,15))\n",
    "#Lobe_odor_tensor=np.zeros((107,15,80))\n",
    "for i in range(Samples):\n",
    "    for j in range(15):\n",
    "        Lobe_mean_activity_matrix[i,j]=lobe_data[\"df_f\"][i*15+j]        \n",
    "        #Lobe_odor_tensor[i,j,:]=lobe_activities[i*15+j,:] \n",
    "        #print(lobe_data[\"lobe\"][i*15+j])"
   ]
  },
  {
   "cell_type": "code",
   "execution_count": null,
   "metadata": {},
   "outputs": [],
   "source": [
    "Lobe_mean_activity_matrix.shape"
   ]
  },
  {
   "cell_type": "code",
   "execution_count": null,
   "metadata": {},
   "outputs": [],
   "source": [
    "Odor_identity=np.zeros((Samples,1))\n",
    "for i in range(Samples):\n",
    "    Odor_identity[i]=OdorID_map[lobe_data[\"stimulus\"][i*15]]"
   ]
  },
  {
   "cell_type": "code",
   "execution_count": null,
   "metadata": {},
   "outputs": [],
   "source": [
    "X = Lobe_mean_activity_matrix\n",
    "y = Odor_identity\n",
    "clf = LinearDiscriminantAnalysis()\n",
    "clf.fit(X, y)\n",
    "X_lda = clf.fit(X,y).transform(X)"
   ]
  },
  {
   "cell_type": "code",
   "execution_count": null,
   "metadata": {
    "scrolled": true
   },
   "outputs": [],
   "source": [
    "## CLASSIFIER - Evaluation of the techniques via confusion matrix\n",
    "from sklearn.model_selection import train_test_split\n",
    "from sklearn.ensemble import RandomForestClassifier\n",
    "from sklearn.metrics import confusion_matrix  \n",
    "from sklearn.metrics import accuracy_score\n",
    " \n",
    "classifier = RandomForestClassifier(max_depth=2, random_state=0)\n",
    " \n",
    "def perform_evaluation(feature_set,target_set):\n",
    "    def namestr(obj, namespace):\n",
    "        return [name for name in namespace if namespace[name] is obj]\n",
    "    print(\"Evaluation for:\",namestr(feature_set,globals())[0])\n",
    "    feat_train, feat_test, target_train, target_test = train_test_split(feature_set, target_set, test_size=0.2, random_state=3)\n",
    "# pass initial state to generate same indexes\n",
    " \n",
    "    classifier.fit(feat_train, target_train)\n",
    "    predicted = classifier.predict(feat_test)\n",
    "    #In multilabel classification, this function computes subset accuracy: the set of labels predicted for a sample must exactly match the corresponding set of labels in y_true.\n",
    "    print(\"Accuracy: \",accuracy_score(target_test, predicted))\n",
    "    Chance=1/np.max(target_set)\n",
    "    print(\"Chance: \"+str(Chance))\n",
    "    print(confusion_matrix(target_test, predicted))\n",
    " \n",
    "perform_evaluation(X_lda, y)\n"
   ]
  },
  {
   "cell_type": "code",
   "execution_count": null,
   "metadata": {},
   "outputs": [],
   "source": [
    "X_lda.shape"
   ]
  },
  {
   "cell_type": "code",
   "execution_count": null,
   "metadata": {},
   "outputs": [],
   "source": [
    "X_r=X_lda"
   ]
  },
  {
   "cell_type": "code",
   "execution_count": null,
   "metadata": {},
   "outputs": [],
   "source": [
    "from mpl_toolkits.mplot3d import Axes3D\n",
    "import matplotlib as mpl\n",
    "mpl.rcParams['lines.markersize'] = 30\n",
    "mpl.rcParams['legend.fontsize'] = 12\n",
    "fig = plt.figure(figsize=(10, 10))\n",
    "ax = fig.add_subplot(111, projection='3d')\n",
    "[v,y,c,p,o3,m4,h1,e,cv,g,iso,h2,hp1,hx1]=[0,0,0,0,0,0,0,0,0,0,0,0,0,0]\n",
    "for i in range(Samples):\n",
    "    if lobe_data.hours_starved[i*15]!=12:\n",
    "    #print(lobe_data.stimulus[i*15])\n",
    "        if lobe_data.stimulus[i*15]=='Vinegar':\n",
    "            if v==0:\n",
    "                ax.scatter(X_r[i,0],X_r[i,1],X_r[i,2],c='b',marker='.',label='Vinegar')\n",
    "                v=1\n",
    "            else:\n",
    "                ax.scatter(X_r[i,0],X_r[i,1],X_r[i,2],c='b',marker='.')\n",
    "        elif lobe_data.stimulus[i*15]=='Yeast':\n",
    "            if y==0:\n",
    "                ax.scatter(X_r[i,0],X_r[i,1],X_r[i,2],c='m',marker='.',label=\"Yeast\")\n",
    "                y=1\n",
    "            else:\n",
    "                ax.scatter(X_r[i,0],X_r[i,1],X_r[i,2],c='m',marker='.')\n",
    "        elif lobe_data.stimulus[i*15]=='Citronella':\n",
    "            if c==0:\n",
    "                ax.scatter(X_r[i,0],X_r[i,1],X_r[i,2],c='r',marker='.',label=\"Citronella\") \n",
    "                c=1\n",
    "            else:\n",
    "                ax.scatter(X_r[i,0],X_r[i,1],X_r[i,2],c='r',marker='.') \n",
    "        elif lobe_data.stimulus[i*15]=='Peppermint':\n",
    "            if p==0:\n",
    "                ax.scatter(X_r[i,0],X_r[i,1],X_r[i,2],c='y',marker='.',label=\"Peppermint\") \n",
    "                p=1\n",
    "            else:\n",
    "                ax.scatter(X_r[i,0],X_r[i,1],X_r[i,2],c='y',marker='.') \n",
    "        elif lobe_data.stimulus[i*15]=='3Octanol':\n",
    "            if o3==0:   \n",
    "                ax.scatter(X_r[i,0],X_r[i,1],X_r[i,2],c='g',marker='.',label=\"3Octanol\")   \n",
    "                o3=1\n",
    "            else:\n",
    "                ax.scatter(X_r[i,0],X_r[i,1],X_r[i,2],c='g',marker='.')     \n",
    "        elif lobe_data.stimulus[i*15]=='4MCH':\n",
    "            if m4==0:\n",
    "                ax.scatter(X_r[i,0],X_r[i,1],X_r[i,2],color='pink',marker='.',label=\"4MCH\") \n",
    "                m4=1\n",
    "            else:\n",
    "                ax.scatter(X_r[i,0],X_r[i,1],X_r[i,2],color='pink',marker='.') \n",
    "        elif lobe_data.stimulus[i*15]=='1-Hexanol':\n",
    "            if h1==0:\n",
    "                ax.scatter(X_r[i,0],X_r[i,1],X_r[i,2],c='c',marker='.',label=\"1-Hexanol\")     \n",
    "                h1=1\n",
    "            else:\n",
    "                ax.scatter(X_r[i,0],X_r[i,1],X_r[i,2],c='c',marker='.')             \n",
    "        elif lobe_data.stimulus[i*15]=='Ethanol':\n",
    "            if e==0:    \n",
    "                ax.scatter(X_r[i,0],X_r[i,1],X_r[i,2],color='orange',marker='.',label=\"Ethanol\")  \n",
    "                e=1\n",
    "            else:\n",
    "                ax.scatter(X_r[i,0],X_r[i,1],X_r[i,2],color='orange',marker='.')              \n",
    "        elif lobe_data.stimulus[i*15]=='cVA':\n",
    "            if cv==0: \n",
    "                ax.scatter(X_r[i,0],X_r[i,1],X_r[i,2],color='brown',marker='.',label=\"cVA\")  \n",
    "                cv=1\n",
    "            else:\n",
    "                ax.scatter(X_r[i,0],X_r[i,1],X_r[i,2],color='brown',marker='.')  \n",
    "        elif lobe_data.stimulus[i*15]=='Geosmin':\n",
    "            if g==0:    \n",
    "                ax.scatter(X_r[i,0],X_r[i,1],X_r[i,2],color='black',marker='.',label=\"Geosmin\")      \n",
    "                g=1\n",
    "            else:\n",
    "                ax.scatter(X_r[i,0],X_r[i,1],X_r[i,2],color='black',marker='.')              \n",
    "        elif lobe_data.stimulus[i*15]=='Isoamylacetate':\n",
    "            if iso==0: \n",
    "                ax.scatter(X_r[i,0],X_r[i,1],X_r[i,2],color='grey',marker='.',label=\"Isoamylacetate\")  \n",
    "                iso=1\n",
    "            else:\n",
    "                ax.scatter(X_r[i,0],X_r[i,1],X_r[i,2],color='grey',marker='.')  \n",
    "        elif lobe_data.stimulus[i*15]=='2-Heptanone':\n",
    "            if h2==0: \n",
    "                ax.scatter(X_r[i,0],X_r[i,1],X_r[i,2],color='grey',marker='+',label=\"2-Heptanone\") \n",
    "                h2=1\n",
    "            else:\n",
    "                ax.scatter(X_r[i,0],X_r[i,1],X_r[i,2],color='grey',marker='+') \n",
    "        elif lobe_data.stimulus[i*15]=='1-Heptanone':\n",
    "            if hp1==0: \n",
    "                ax.scatter(X_r[i,0],X_r[i,1],X_r[i,2],color='black',marker='+',label=\"1-Heptanone\")    \n",
    "                hp1=1\n",
    "            else:\n",
    "                ax.scatter(X_r[i,0],X_r[i,1],X_r[i,2],color='black',marker='+')    \n",
    "        elif lobe_data.stimulus[i*15]=='1-Hexanol':\n",
    "            if hx1==0:   \n",
    "                ax.scatter(X_r[i,0],X_r[i,1],X_r[i,2],color='g',marker='+',label=\"1-Hexanol\")   \n",
    "                hx1=1\n",
    "            else:\n",
    "                ax.scatter(X_r[i,0],X_r[i,1],X_r[i,2],color='g',marker='+')           \n",
    "            \n",
    "ax.legend()\n",
    "fig.savefig('AllOdorsScatter.svg')"
   ]
  },
  {
   "cell_type": "code",
   "execution_count": null,
   "metadata": {},
   "outputs": [],
   "source": [
    "from mpl_toolkits.mplot3d import Axes3D\n",
    "mpl.rcParams['lines.markersize'] = 30\n",
    "mpl.rcParams['legend.fontsize'] = 12\n",
    "fig = plt.figure(figsize=(10, 10))\n",
    "ax = fig.add_subplot(111, projection='3d')\n",
    "g=0\n",
    "for i in range(Samples):\n",
    "    if lobe_data.hours_starved[i*15]!=12:\n",
    "    #print(lobe_data.stimulus[i*15])\n",
    "        if lobe_data.stimulus[i*15]!='Geosmin':\n",
    "            ax.scatter(X_r[i,0],X_r[i,1],X_r[i,2],c='black',marker='.')\n",
    "        elif lobe_data.stimulus[i*15]=='Geosmin':\n",
    "            if g==0:\n",
    "                ax.scatter(X_r[i,0],X_r[i,1],X_r[i,2],color='red',marker='.',label=\"Geosmin\")    \n",
    "                g=1\n",
    "            else:\n",
    "                ax.scatter(X_r[i,0],X_r[i,1],X_r[i,2],color='red',marker='.')              \n",
    "ax.legend()\n",
    "fig.savefig('GeosminScatter.svg')"
   ]
  },
  {
   "cell_type": "code",
   "execution_count": null,
   "metadata": {},
   "outputs": [],
   "source": [
    "from mpl_toolkits.mplot3d import Axes3D\n",
    "mpl.rcParams['lines.markersize'] = 30\n",
    "mpl.rcParams['legend.fontsize'] = 12\n",
    "fig = plt.figure(figsize=(10, 10))\n",
    "ax = fig.add_subplot(111, projection='3d')\n",
    "g=0\n",
    "for i in range(Samples):\n",
    "    if lobe_data.hours_starved[i*15]!=12:\n",
    "    #print(lobe_data.stimulus[i*15])\n",
    "        if lobe_data.stimulus[i*15]!='cVA':\n",
    "            ax.scatter(X_r[i,0],X_r[i,1],X_r[i,2],c='black',marker='.')\n",
    "        elif lobe_data.stimulus[i*15]=='cVA':\n",
    "            if g==0:\n",
    "                ax.scatter(X_r[i,0],X_r[i,1],X_r[i,2],color='red',marker='.',label=\"cVA\")    \n",
    "                g=1\n",
    "            else:\n",
    "                ax.scatter(X_r[i,0],X_r[i,1],X_r[i,2],color='red',marker='.')              \n",
    "ax.legend()            "
   ]
  },
  {
   "cell_type": "code",
   "execution_count": null,
   "metadata": {},
   "outputs": [],
   "source": [
    "from mpl_toolkits.mplot3d import Axes3D\n",
    "mpl.rcParams['lines.markersize'] = 30\n",
    "mpl.rcParams['legend.fontsize'] = 12\n",
    "fig = plt.figure(figsize=(10, 10))\n",
    "ax = fig.add_subplot(111, projection='3d')\n",
    "g=0\n",
    "for i in range(Samples):\n",
    "    if lobe_data.hours_starved[i*15]!=12:\n",
    "    #print(lobe_data.stimulus[i*15])\n",
    "        if lobe_data.stimulus[i*15]!='Isoamylacetate':\n",
    "            ax.scatter(X_r[i,0],X_r[i,1],X_r[i,2],c='black',marker='.')\n",
    "        elif lobe_data.stimulus[i*15]=='Isoamylacetate':\n",
    "            if g==0:\n",
    "                ax.scatter(X_r[i,0],X_r[i,1],X_r[i,2],color='red',marker='.',label=\"Isoamylacetate\")    \n",
    "                g=1\n",
    "            else:\n",
    "                ax.scatter(X_r[i,0],X_r[i,1],X_r[i,2],color='red',marker='.')              \n",
    "ax.legend()   "
   ]
  },
  {
   "cell_type": "markdown",
   "metadata": {},
   "source": [
    "# LDA Stimulus type"
   ]
  },
  {
   "cell_type": "code",
   "execution_count": 37,
   "metadata": {},
   "outputs": [],
   "source": [
    "Odor_type=np.zeros((Samples,1))\n",
    "for i in range(Samples):\n",
    "    Odor_type[i]=lobe_data[\"odor_type\"][i*15]"
   ]
  },
  {
   "cell_type": "code",
   "execution_count": 38,
   "metadata": {},
   "outputs": [
    {
     "ename": "NameError",
     "evalue": "name 'Lobe_mean_activity_matrix' is not defined",
     "output_type": "error",
     "traceback": [
      "\u001b[1;31m---------------------------------------------------------------------------\u001b[0m",
      "\u001b[1;31mNameError\u001b[0m                                 Traceback (most recent call last)",
      "\u001b[1;32m<ipython-input-38-bfd234210ec6>\u001b[0m in \u001b[0;36m<module>\u001b[1;34m\u001b[0m\n\u001b[1;32m----> 1\u001b[1;33m \u001b[0mX\u001b[0m \u001b[1;33m=\u001b[0m \u001b[0mLobe_mean_activity_matrix\u001b[0m\u001b[1;33m\u001b[0m\u001b[1;33m\u001b[0m\u001b[0m\n\u001b[0m\u001b[0;32m      2\u001b[0m \u001b[0my\u001b[0m \u001b[1;33m=\u001b[0m \u001b[0mOdor_type\u001b[0m\u001b[1;33m\u001b[0m\u001b[1;33m\u001b[0m\u001b[0m\n\u001b[0;32m      3\u001b[0m \u001b[0mclf\u001b[0m \u001b[1;33m=\u001b[0m \u001b[0mLinearDiscriminantAnalysis\u001b[0m\u001b[1;33m(\u001b[0m\u001b[1;33m)\u001b[0m\u001b[1;33m\u001b[0m\u001b[1;33m\u001b[0m\u001b[0m\n\u001b[0;32m      4\u001b[0m \u001b[0mclf\u001b[0m\u001b[1;33m.\u001b[0m\u001b[0mfit\u001b[0m\u001b[1;33m(\u001b[0m\u001b[0mX\u001b[0m\u001b[1;33m,\u001b[0m \u001b[0my\u001b[0m\u001b[1;33m)\u001b[0m\u001b[1;33m\u001b[0m\u001b[1;33m\u001b[0m\u001b[0m\n\u001b[0;32m      5\u001b[0m \u001b[0mX_lda\u001b[0m \u001b[1;33m=\u001b[0m \u001b[0mclf\u001b[0m\u001b[1;33m.\u001b[0m\u001b[0mfit\u001b[0m\u001b[1;33m(\u001b[0m\u001b[0mX\u001b[0m\u001b[1;33m,\u001b[0m\u001b[0my\u001b[0m\u001b[1;33m)\u001b[0m\u001b[1;33m.\u001b[0m\u001b[0mtransform\u001b[0m\u001b[1;33m(\u001b[0m\u001b[0mX\u001b[0m\u001b[1;33m)\u001b[0m\u001b[1;33m\u001b[0m\u001b[1;33m\u001b[0m\u001b[0m\n",
      "\u001b[1;31mNameError\u001b[0m: name 'Lobe_mean_activity_matrix' is not defined"
     ]
    }
   ],
   "source": [
    "X = Lobe_mean_activity_matrix\n",
    "y = Odor_type\n",
    "clf = LinearDiscriminantAnalysis()\n",
    "clf.fit(X, y)\n",
    "X_lda = clf.fit(X,y).transform(X)"
   ]
  },
  {
   "cell_type": "code",
   "execution_count": null,
   "metadata": {},
   "outputs": [],
   "source": [
    "from mpl_toolkits.mplot3d import Axes3D\n",
    "import matplotlib as mpl\n",
    "mpl.rcParams['lines.markersize'] = 30\n",
    "mpl.rcParams['legend.fontsize'] = 12\n",
    "fig = plt.figure(figsize=(10, 10))\n",
    "ax = fig.add_subplot(111, projection='3d')\n",
    "[v,y,c,p,o3,m4,h1,e,cv,g,iso,h2,hp1,hx1]=[0,0,0,0,0,0,0,0,0,0,0,0,0,0]\n",
    "for i in range(Samples):\n",
    "    #print(lobe_data.stimulus[i*15])\n",
    "    if lobe_data.odor_type[i*15]==1:\n",
    "        if v==0:\n",
    "            ax.scatter(X_r[i,0],X_r[i,1],X_r[i,2],c='b',marker='.',label=dictionaryType[1])\n",
    "            v=1\n",
    "         \n",
    "        else:\n",
    "            ax.scatter(X_r[i,0],X_r[i,1],X_r[i,2],c='b',marker='.')\n",
    "    elif lobe_data.odor_type[i*15]==2:\n",
    "        if y==0:\n",
    "            ax.scatter(X_r[i,0],X_r[i,1],X_r[i,2],c='m',marker='.',label=dictionaryType[2])\n",
    "            y=1\n",
    "        else:\n",
    "            ax.scatter(X_r[i,0],X_r[i,1],X_r[i,2],c='m',marker='.')\n",
    "    elif lobe_data.odor_type[i*15]==3:\n",
    "        if c==0:\n",
    "            ax.scatter(X_r[i,0],X_r[i,1],X_r[i,2],c='r',marker='.',label=dictionaryType[3]) \n",
    "            c=1\n",
    "        else:\n",
    "            ax.scatter(X_r[i,0],X_r[i,1],X_r[i,2],c='r',marker='.') \n",
    "    elif lobe_data.odor_type[i*15]==4:\n",
    "        if p==0:\n",
    "            ax.scatter(X_r[i,0],X_r[i,1],X_r[i,2],c='y',marker='.',label=dictionaryType[4]) \n",
    "            p=1\n",
    "        else:\n",
    "            ax.scatter(X_r[i,0],X_r[i,1],X_r[i,2],c='y',marker='.')        \n",
    "            \n",
    "ax.legend()"
   ]
  },
  {
   "cell_type": "markdown",
   "metadata": {},
   "source": [
    "# PCA and old stuff"
   ]
  },
  {
   "cell_type": "code",
   "execution_count": null,
   "metadata": {},
   "outputs": [],
   "source": [
    "from sklearn.decomposition import PCA\n",
    "pca = PCA(n_components=3)\n",
    "X_r = pca.fit(X).transform(X)"
   ]
  },
  {
   "cell_type": "code",
   "execution_count": null,
   "metadata": {},
   "outputs": [],
   "source": [
    "train_x, test_x, train_y, test_y = train_test_split(X_r[:,range(2)],lobe_data.valence[np.array(range(Samples))*15], train_size=0.7)\n",
    "\n",
    "lr = linear_model.LogisticRegression()\n",
    "lr.fit(train_x, train_y)\n",
    "\n",
    "print(\"Logistic regression Train Accuracy ::\", metrics.accuracy_score(train_y, lr.predict(train_x)))\n",
    "print(\"Logistic regression Test Accuracy ::\", metrics.accuracy_score(test_y, lr.predict(test_x)))"
   ]
  },
  {
   "cell_type": "code",
   "execution_count": null,
   "metadata": {},
   "outputs": [],
   "source": [
    "from mpl_toolkits.mplot3d import Axes3D\n",
    "fig = plt.figure(figsize=(8, 8))\n",
    "ax = fig.add_subplot(111, projection='3d')\n",
    "for i in range(Samples):\n",
    "    #print(lobe_data.stimulus[i*15])\n",
    "    if lobe_data.stimulus[i*15]=='Vinegar':\n",
    "        ax.scatter(X_r[i,0],X_r[i,1],X_r[i,2],c='g',marker='.')\n",
    "    elif lobe_data.stimulus[i*15]=='Yeast':\n",
    "        ax.scatter(X_r[i,0],X_r[i,1],X_r[i,2],c='c',marker='.')\n",
    "    elif lobe_data.stimulus[i*15]=='Citronella':\n",
    "        ax.scatter(X_r[i,0],X_r[i,1],X_r[i,2],c='r',marker='.')\n",
    "    elif lobe_data.stimulus[i*15]=='Peppermint':\n",
    "        ax.scatter(X_r[i,0],X_r[i,1],X_r[i,2],c='m',marker='.')\n",
    "    #else:\n",
    "     #   ax.scatter(X_r[i,0],X_r[i,1],X_r[i,2],'y.')"
   ]
  },
  {
   "cell_type": "code",
   "execution_count": null,
   "metadata": {},
   "outputs": [],
   "source": []
  },
  {
   "cell_type": "code",
   "execution_count": null,
   "metadata": {},
   "outputs": [],
   "source": [
    "pca_components = pca.components_"
   ]
  },
  {
   "cell_type": "code",
   "execution_count": null,
   "metadata": {},
   "outputs": [],
   "source": [
    "pca_components.shape"
   ]
  },
  {
   "cell_type": "code",
   "execution_count": null,
   "metadata": {},
   "outputs": [],
   "source": [
    "lobes"
   ]
  },
  {
   "cell_type": "code",
   "execution_count": null,
   "metadata": {},
   "outputs": [],
   "source": [
    "plt.figure(figsize=(14, 4))\n",
    "plt.plot(pca_components[0])\n",
    "plt.xlabel('Lobe')\n",
    "plt.xticks(range(15),\n",
    "           lobes)\n",
    "plt.show()"
   ]
  },
  {
   "cell_type": "code",
   "execution_count": null,
   "metadata": {
    "scrolled": true
   },
   "outputs": [],
   "source": [
    "train_x, test_x, train_y, test_y = train_test_split(X_r,\n",
    "    lobe_data.valence[np.array(range(Samples))*15], train_size=0.7)\n",
    "\n",
    "lr = linear_model.LogisticRegression()\n",
    "lr.fit(train_x, train_y)\n",
    "\n",
    "print(\"Logistic regression Train Accuracy ::\", metrics.accuracy_score(train_y, lr.predict(train_x)))\n",
    "print(\"Logistic regression Test Accuracy ::\", metrics.accuracy_score(test_y, lr.predict(test_x)))"
   ]
  },
  {
   "cell_type": "markdown",
   "metadata": {},
   "source": [
    "# Tensor PCA"
   ]
  },
  {
   "cell_type": "code",
   "execution_count": null,
   "metadata": {},
   "outputs": [],
   "source": [
    "import tensorly as tl\n",
    "from tensorly.decomposition._tucker import partial_tucker\n",
    "\n",
    "class TensorPCA:\n",
    "    def __init__(self, ranks, modes):\n",
    "        self.ranks = ranks\n",
    "        self.modes = modes\n",
    "\n",
    "    def fit(self, tensor):\n",
    "        self.core, self.factors = partial_tucker(tensor, modes=self.modes, ranks=self.ranks)\n",
    "        return self\n",
    "\n",
    "    def transform(self, tensor):\n",
    "        return tl.tenalg.multi_mode_dot(tensor, self.factors, modes=self.modes, transpose=True)"
   ]
  },
  {
   "cell_type": "code",
   "execution_count": null,
   "metadata": {},
   "outputs": [],
   "source": [
    "Lobe_odor_tensor.shape"
   ]
  },
  {
   "cell_type": "code",
   "execution_count": null,
   "metadata": {},
   "outputs": [],
   "source": [
    "tpca = TensorPCA(ranks=[3,15,80], modes=[0])\n",
    "tpca.fit(Lobe_odor_tensor)"
   ]
  },
  {
   "cell_type": "code",
   "execution_count": null,
   "metadata": {},
   "outputs": [],
   "source": [
    "Lobe_odor_tensor.shape"
   ]
  },
  {
   "cell_type": "code",
   "execution_count": null,
   "metadata": {},
   "outputs": [],
   "source": [
    "tpca.transform(Lobe_odor_tensor).shape"
   ]
  },
  {
   "cell_type": "code",
   "execution_count": null,
   "metadata": {},
   "outputs": [],
   "source": [
    "tpca.core.shape"
   ]
  },
  {
   "cell_type": "code",
   "execution_count": null,
   "metadata": {},
   "outputs": [],
   "source": [
    "del Mode1"
   ]
  },
  {
   "cell_type": "code",
   "execution_count": null,
   "metadata": {},
   "outputs": [],
   "source": [
    "tpca.factors[0].shape"
   ]
  },
  {
   "cell_type": "code",
   "execution_count": null,
   "metadata": {},
   "outputs": [],
   "source": [
    "Mode1=tpca.factors[1][:,0]"
   ]
  },
  {
   "cell_type": "code",
   "execution_count": null,
   "metadata": {},
   "outputs": [],
   "source": [
    "Mode1=-tpca.core[0,5,:]"
   ]
  },
  {
   "cell_type": "code",
   "execution_count": null,
   "metadata": {},
   "outputs": [],
   "source": [
    "Mode1.shape"
   ]
  },
  {
   "cell_type": "code",
   "execution_count": null,
   "metadata": {},
   "outputs": [],
   "source": [
    "plt.plot(Mode1)"
   ]
  },
  {
   "cell_type": "code",
   "execution_count": null,
   "metadata": {},
   "outputs": [],
   "source": [
    "from mpl_toolkits.mplot3d import Axes3D\n",
    "import matplotlib.pyplot as plt\n",
    "import numpy as np\n",
    "\n",
    "fig = plt.figure(figsize=(20, 20))\n",
    "ax = fig.add_subplot(111, projection='3d')\n",
    "for c, z in zip(['r', 'g', 'b', 'y','r', 'g', 'b', 'y','r', 'g', 'b', 'y','r', 'g','y'], range(15)):\n",
    "    xs = np.arange(80)\n",
    "    ys = -tpca.core[0,z,:]\n",
    "\n",
    "    # You can provide either a single color or an array. To demonstrate this,\n",
    "    # the first bar of each set will be colored cyan.\n",
    "    cs = [c] * len(xs)\n",
    "    cs[0] = 'c'\n",
    "    ax.bar(xs, ys, zs=z, zdir='y', color=cs, alpha=0.8)\n",
    "\n",
    "ax.set_xlabel('X')\n",
    "ax.set_ylabel('Lobe')\n",
    "ax.set_yticks(range(2,17))\n",
    "ax.set_yticklabels(lobes)\n",
    "ax.set_zlabel('Z')\n",
    "\n",
    "plt.show()"
   ]
  },
  {
   "cell_type": "code",
   "execution_count": null,
   "metadata": {},
   "outputs": [],
   "source": [
    "X_r=tpca.factors[0]"
   ]
  },
  {
   "cell_type": "code",
   "execution_count": null,
   "metadata": {},
   "outputs": [],
   "source": [
    "plt.figure(figsize=(14, 10))\n",
    "for i in range(232):\n",
    "    if lobe_data.hours_starved[i*15]==48:\n",
    "    #print(lobe_data.stimulus[i*15])\n",
    "        if lobe_data.stimulus[i*15]=='Vinegar':\n",
    "            plt.plot(X_r[i,0],X_r[i,1],'g.')\n",
    "        elif lobe_data.stimulus[i*15]=='Yeast':\n",
    "            plt.plot(X_r[i,0],X_r[i,1],'c.')\n",
    "        elif lobe_data.stimulus[i*15]=='Citronella':\n",
    "            plt.plot(X_r[i,0],X_r[i,1],'r.') \n",
    "        elif lobe_data.stimulus[i*15]=='Peppermint':\n",
    "            plt.plot(X_r[i,0],X_r[i,1],'m.')     \n",
    "    #else:\n",
    "        #plt.plot(X_r[i,0],X_r[i,1],'y.')"
   ]
  },
  {
   "cell_type": "code",
   "execution_count": null,
   "metadata": {},
   "outputs": [],
   "source": [
    "plt.figure(figsize=(14, 10))\n",
    "for i in range(232):\n",
    "    if lobe_data.hours_starved[i*15]==48:\n",
    "    #print(lobe_data.stimulus[i*15])\n",
    "        if lobe_data.stimulus[i*15]=='Vinegar':\n",
    "            plt.plot(X_r[i,0],X_r[i,1],'g.')\n",
    "        elif lobe_data.stimulus[i*15]=='Yeast':\n",
    "            plt.plot(X_r[i,0],X_r[i,1],'c.')\n",
    "        elif lobe_data.stimulus[i*15]=='Citronella':\n",
    "            plt.plot(X_r[i,0],X_r[i,1],'r.') \n",
    "        elif lobe_data.stimulus[i*15]=='Peppermint':\n",
    "            plt.plot(X_r[i,0],X_r[i,1],'m.')     \n",
    "    #else:\n",
    "        #plt.plot(X_r[i,0],X_r[i,1],'y.')"
   ]
  },
  {
   "cell_type": "code",
   "execution_count": null,
   "metadata": {},
   "outputs": [],
   "source": [
    "from mpl_toolkits.mplot3d import Axes3D\n",
    "fig = plt.figure(figsize=(14, 10))\n",
    "ax = fig.add_subplot(111, projection='3d')\n",
    "for i in range(232):\n",
    "    #print(lobe_data.stimulus[i*15])\n",
    "    if lobe_data.stimulus[i*15]=='Vinegar':\n",
    "        ax.scatter(X_r[i,0],X_r[i,1],X_r[i,2],c='g',marker='.')\n",
    "    elif lobe_data.stimulus[i*15]=='Yeast':\n",
    "        ax.scatter(X_r[i,0],X_r[i,1],X_r[i,2],c='c',marker='.')\n",
    "    elif lobe_data.stimulus[i*15]=='Citronella':\n",
    "        ax.scatter(X_r[i,0],X_r[i,1],X_r[i,2],c='r',marker='.')\n",
    "    elif lobe_data.stimulus[i*15]=='Peppermint':\n",
    "        ax.scatter(X_r[i,0],X_r[i,1],X_r[i,2],c='m',marker='.')\n",
    "    else:\n",
    "        ax.scatter(X_r[i,0],X_r[i,1],X_r[i,2],'y.')"
   ]
  },
  {
   "cell_type": "code",
   "execution_count": null,
   "metadata": {},
   "outputs": [],
   "source": [
    "train_x, test_x, train_y, test_y = train_test_split(X_r,\n",
    "    lobe_data.valence[np.array(range(232))*15], train_size=0.7)"
   ]
  },
  {
   "cell_type": "code",
   "execution_count": null,
   "metadata": {},
   "outputs": [],
   "source": [
    "lr = linear_model.LogisticRegression(solver = 'lbfgs')\n",
    "lr.fit(train_x, train_y)"
   ]
  },
  {
   "cell_type": "code",
   "execution_count": null,
   "metadata": {},
   "outputs": [],
   "source": [
    "print(\"Logistic regression Train Accuracy ::\", metrics.accuracy_score(train_y, lr.predict(train_x)))\n",
    "print(\"Logistic regression Test Accuracy ::\", metrics.accuracy_score(test_y, lr.predict(test_x)))"
   ]
  },
  {
   "cell_type": "markdown",
   "metadata": {},
   "source": [
    "# K means"
   ]
  },
  {
   "cell_type": "code",
   "execution_count": null,
   "metadata": {},
   "outputs": [],
   "source": [
    "from time import time\n",
    "from sklearn import metrics\n",
    "from sklearn.cluster import KMeans\n",
    "from sklearn.datasets import load_digits\n",
    "from sklearn.preprocessing import scale\n",
    "\n",
    "np.random.seed(42)\n",
    "\n",
    "data = scale(digits.data)\n",
    "n_digits=13\n",
    "labels = lobe_data.stimulus[range(232)*15]\n",
    "\n",
    "sample_size = 232\n",
    "\n",
    "\n",
    "def bench_k_means(estimator, name, data):\n",
    "    t0 = time()\n",
    "    estimator.fit(data)\n",
    "\n",
    "bench_k_means(KMeans(init='k-means++', n_clusters=n_digits, n_init=10),\n",
    "              name=\"k-means++\", data=data)\n",
    "\n",
    "bench_k_means(KMeans(init='random', n_clusters=n_digits, n_init=10),\n",
    "              name=\"random\", data=data)\n",
    "\n",
    "# in this case the seeding of the centers is deterministic, hence we run the\n",
    "# kmeans algorithm only once with n_init=1\n",
    "pca = PCA(n_components=n_digits).fit(data)\n",
    "bench_k_means(KMeans(init=pca.components_, n_clusters=n_digits, n_init=1),\n",
    "              name=\"PCA-based\",\n",
    "              data=data)\n",
    "\n",
    "# #############################################################################\n",
    "# Visualize the results on PCA-reduced data\n",
    "\n",
    "reduced_data = PCA(n_components=2).fit_transform(data)\n",
    "kmeans = KMeans(init='k-means++', n_clusters=n_digits, n_init=10)\n",
    "kmeans.fit(reduced_data)\n",
    "\n",
    "# Step size of the mesh. Decrease to increase the quality of the VQ.\n",
    "h = .02     # point in the mesh [x_min, x_max]x[y_min, y_max].\n",
    "\n",
    "# Plot the decision boundary. For that, we will assign a color to each\n",
    "x_min, x_max = reduced_data[:, 0].min() - 1, reduced_data[:, 0].max() + 1\n",
    "y_min, y_max = reduced_data[:, 1].min() - 1, reduced_data[:, 1].max() + 1\n",
    "xx, yy = np.meshgrid(np.arange(x_min, x_max, h), np.arange(y_min, y_max, h))\n",
    "\n",
    "# Obtain labels for each point in mesh. Use last trained model.\n",
    "Z = kmeans.predict(np.c_[xx.ravel(), yy.ravel()])\n",
    "\n",
    "# Put the result into a color plot\n",
    "Z = Z.reshape(xx.shape)\n",
    "plt.figure(1)\n",
    "plt.clf()\n",
    "plt.imshow(Z, interpolation='nearest',\n",
    "           extent=(xx.min(), xx.max(), yy.min(), yy.max()),\n",
    "           cmap=plt.cm.Paired,\n",
    "           aspect='auto', origin='lower')\n",
    "\n",
    "plt.plot(reduced_data[:, 0], reduced_data[:, 1], 'k.', markersize=2)\n",
    "# Plot the centroids as a white X\n",
    "centroids = kmeans.cluster_centers_\n",
    "plt.scatter(centroids[:, 0], centroids[:, 1],\n",
    "            marker='x', s=169, linewidths=3,\n",
    "            color='w', zorder=10)\n",
    "plt.title('K-means clustering on the digits dataset (PCA-reduced data)\\n'\n",
    "          'Centroids are marked with white cross')\n",
    "plt.xlim(x_min, x_max)\n",
    "plt.ylim(y_min, y_max)\n",
    "plt.xticks(())\n",
    "plt.yticks(())\n",
    "plt.show()"
   ]
  }
 ],
 "metadata": {
  "kernelspec": {
   "display_name": "Python 3",
   "language": "python",
   "name": "python3"
  },
  "language_info": {
   "codemirror_mode": {
    "name": "ipython",
    "version": 3
   },
   "file_extension": ".py",
   "mimetype": "text/x-python",
   "name": "python",
   "nbconvert_exporter": "python",
   "pygments_lexer": "ipython3",
   "version": "3.7.1"
  }
 },
 "nbformat": 4,
 "nbformat_minor": 2
}
